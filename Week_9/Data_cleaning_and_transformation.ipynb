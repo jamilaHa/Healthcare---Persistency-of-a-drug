{
  "nbformat": 4,
  "nbformat_minor": 5,
  "metadata": {
    "kernelspec": {
      "display_name": "Python 3",
      "language": "python",
      "name": "python3"
    },
    "language_info": {
      "codemirror_mode": {
        "name": "ipython",
        "version": 3
      },
      "file_extension": ".py",
      "mimetype": "text/x-python",
      "name": "python",
      "nbconvert_exporter": "python",
      "pygments_lexer": "ipython3",
      "version": "3.8.8"
    },
    "colab": {
      "name": "Data cleaning and transformation.ipynb",
      "provenance": [],
      "collapsed_sections": [
        "a3077211",
        "253bde12",
        "e0631f8f",
        "07554297",
        "02b77f08",
        "0cbf604a",
        "12de552a",
        "1940e1dc",
        "0d980f9b",
        "0396b84b"
      ]
    }
  },
  "cells": [
    {
      "cell_type": "markdown",
      "metadata": {
        "id": "3346df7d"
      },
      "source": [
        "## Importing libraries"
      ],
      "id": "3346df7d"
    },
    {
      "cell_type": "code",
      "metadata": {
        "id": "377ed18a"
      },
      "source": [
        "import numpy as np\n",
        "import pandas as pd\n",
        "import seaborn as sns\n",
        "from matplotlib import pyplot as plt\n",
        "import scipy.stats as stats\n",
        "from matplotlib.pyplot import figure\n",
        "from sklearn.preprocessing import LabelEncoder\n",
        "from sklearn.feature_selection import SelectKBest\n",
        "from sklearn.feature_selection import chi2\n",
        "from matplotlib import pyplot\n",
        "from sklearn.feature_selection import mutual_info_classif"
      ],
      "id": "377ed18a",
      "execution_count": null,
      "outputs": []
    },
    {
      "cell_type": "markdown",
      "metadata": {
        "id": "bdf4bf04"
      },
      "source": [
        "## Reading the Data"
      ],
      "id": "bdf4bf04"
    },
    {
      "cell_type": "code",
      "metadata": {
        "id": "0ef63387",
        "outputId": "3374b96e-5384-4dae-d035-d4fb93414d84"
      },
      "source": [
        "dataset= pd.read_excel(r\"C:\\Users\\hmeli\\OneDrive\\Masaüstü\\DataGlacierDataSets\\Project\\Healthcaredata.xlsx\")\n",
        "df=dataset.copy()\n",
        "print(\"Data imported successfully!\")"
      ],
      "id": "0ef63387",
      "execution_count": null,
      "outputs": [
        {
          "output_type": "stream",
          "text": [
            "Data imported successfully!\n"
          ],
          "name": "stdout"
        }
      ]
    },
    {
      "cell_type": "markdown",
      "metadata": {
        "id": "195efc6e"
      },
      "source": [
        "## Properties of the Dataset"
      ],
      "id": "195efc6e"
    },
    {
      "cell_type": "code",
      "metadata": {
        "id": "b7325aae",
        "outputId": "477c9608-dd50-4965-c017-51a6394a7598"
      },
      "source": [
        "df.head()"
      ],
      "id": "b7325aae",
      "execution_count": null,
      "outputs": [
        {
          "output_type": "execute_result",
          "data": {
            "text/html": [
              "<div>\n",
              "<style scoped>\n",
              "    .dataframe tbody tr th:only-of-type {\n",
              "        vertical-align: middle;\n",
              "    }\n",
              "\n",
              "    .dataframe tbody tr th {\n",
              "        vertical-align: top;\n",
              "    }\n",
              "\n",
              "    .dataframe thead th {\n",
              "        text-align: right;\n",
              "    }\n",
              "</style>\n",
              "<table border=\"1\" class=\"dataframe\">\n",
              "  <thead>\n",
              "    <tr style=\"text-align: right;\">\n",
              "      <th></th>\n",
              "      <th>Ptid</th>\n",
              "      <th>Persistency_Flag</th>\n",
              "      <th>Gender</th>\n",
              "      <th>Race</th>\n",
              "      <th>Ethnicity</th>\n",
              "      <th>Region</th>\n",
              "      <th>Age_Bucket</th>\n",
              "      <th>Ntm_Speciality</th>\n",
              "      <th>Ntm_Specialist_Flag</th>\n",
              "      <th>Ntm_Speciality_Bucket</th>\n",
              "      <th>...</th>\n",
              "      <th>Risk_Family_History_Of_Osteoporosis</th>\n",
              "      <th>Risk_Low_Calcium_Intake</th>\n",
              "      <th>Risk_Vitamin_D_Insufficiency</th>\n",
              "      <th>Risk_Poor_Health_Frailty</th>\n",
              "      <th>Risk_Excessive_Thinness</th>\n",
              "      <th>Risk_Hysterectomy_Oophorectomy</th>\n",
              "      <th>Risk_Estrogen_Deficiency</th>\n",
              "      <th>Risk_Immobilization</th>\n",
              "      <th>Risk_Recurring_Falls</th>\n",
              "      <th>Count_Of_Risks</th>\n",
              "    </tr>\n",
              "  </thead>\n",
              "  <tbody>\n",
              "    <tr>\n",
              "      <th>0</th>\n",
              "      <td>P1</td>\n",
              "      <td>Persistent</td>\n",
              "      <td>Male</td>\n",
              "      <td>Caucasian</td>\n",
              "      <td>Not Hispanic</td>\n",
              "      <td>West</td>\n",
              "      <td>&gt;75</td>\n",
              "      <td>GENERAL PRACTITIONER</td>\n",
              "      <td>Others</td>\n",
              "      <td>OB/GYN/Others/PCP/Unknown</td>\n",
              "      <td>...</td>\n",
              "      <td>N</td>\n",
              "      <td>N</td>\n",
              "      <td>N</td>\n",
              "      <td>N</td>\n",
              "      <td>N</td>\n",
              "      <td>N</td>\n",
              "      <td>N</td>\n",
              "      <td>N</td>\n",
              "      <td>N</td>\n",
              "      <td>0</td>\n",
              "    </tr>\n",
              "    <tr>\n",
              "      <th>1</th>\n",
              "      <td>P2</td>\n",
              "      <td>Non-Persistent</td>\n",
              "      <td>Male</td>\n",
              "      <td>Asian</td>\n",
              "      <td>Not Hispanic</td>\n",
              "      <td>West</td>\n",
              "      <td>55-65</td>\n",
              "      <td>GENERAL PRACTITIONER</td>\n",
              "      <td>Others</td>\n",
              "      <td>OB/GYN/Others/PCP/Unknown</td>\n",
              "      <td>...</td>\n",
              "      <td>N</td>\n",
              "      <td>N</td>\n",
              "      <td>N</td>\n",
              "      <td>N</td>\n",
              "      <td>N</td>\n",
              "      <td>N</td>\n",
              "      <td>N</td>\n",
              "      <td>N</td>\n",
              "      <td>N</td>\n",
              "      <td>0</td>\n",
              "    </tr>\n",
              "    <tr>\n",
              "      <th>2</th>\n",
              "      <td>P3</td>\n",
              "      <td>Non-Persistent</td>\n",
              "      <td>Female</td>\n",
              "      <td>Other/Unknown</td>\n",
              "      <td>Hispanic</td>\n",
              "      <td>Midwest</td>\n",
              "      <td>65-75</td>\n",
              "      <td>GENERAL PRACTITIONER</td>\n",
              "      <td>Others</td>\n",
              "      <td>OB/GYN/Others/PCP/Unknown</td>\n",
              "      <td>...</td>\n",
              "      <td>N</td>\n",
              "      <td>Y</td>\n",
              "      <td>N</td>\n",
              "      <td>N</td>\n",
              "      <td>N</td>\n",
              "      <td>N</td>\n",
              "      <td>N</td>\n",
              "      <td>N</td>\n",
              "      <td>N</td>\n",
              "      <td>2</td>\n",
              "    </tr>\n",
              "    <tr>\n",
              "      <th>3</th>\n",
              "      <td>P4</td>\n",
              "      <td>Non-Persistent</td>\n",
              "      <td>Female</td>\n",
              "      <td>Caucasian</td>\n",
              "      <td>Not Hispanic</td>\n",
              "      <td>Midwest</td>\n",
              "      <td>&gt;75</td>\n",
              "      <td>GENERAL PRACTITIONER</td>\n",
              "      <td>Others</td>\n",
              "      <td>OB/GYN/Others/PCP/Unknown</td>\n",
              "      <td>...</td>\n",
              "      <td>N</td>\n",
              "      <td>N</td>\n",
              "      <td>N</td>\n",
              "      <td>N</td>\n",
              "      <td>N</td>\n",
              "      <td>N</td>\n",
              "      <td>N</td>\n",
              "      <td>N</td>\n",
              "      <td>N</td>\n",
              "      <td>1</td>\n",
              "    </tr>\n",
              "    <tr>\n",
              "      <th>4</th>\n",
              "      <td>P5</td>\n",
              "      <td>Non-Persistent</td>\n",
              "      <td>Female</td>\n",
              "      <td>Caucasian</td>\n",
              "      <td>Not Hispanic</td>\n",
              "      <td>Midwest</td>\n",
              "      <td>&gt;75</td>\n",
              "      <td>GENERAL PRACTITIONER</td>\n",
              "      <td>Others</td>\n",
              "      <td>OB/GYN/Others/PCP/Unknown</td>\n",
              "      <td>...</td>\n",
              "      <td>N</td>\n",
              "      <td>N</td>\n",
              "      <td>N</td>\n",
              "      <td>N</td>\n",
              "      <td>N</td>\n",
              "      <td>N</td>\n",
              "      <td>N</td>\n",
              "      <td>N</td>\n",
              "      <td>N</td>\n",
              "      <td>1</td>\n",
              "    </tr>\n",
              "  </tbody>\n",
              "</table>\n",
              "<p>5 rows × 69 columns</p>\n",
              "</div>"
            ],
            "text/plain": [
              "  Ptid Persistency_Flag  Gender           Race     Ethnicity   Region  \\\n",
              "0   P1       Persistent    Male      Caucasian  Not Hispanic     West   \n",
              "1   P2   Non-Persistent    Male          Asian  Not Hispanic     West   \n",
              "2   P3   Non-Persistent  Female  Other/Unknown      Hispanic  Midwest   \n",
              "3   P4   Non-Persistent  Female      Caucasian  Not Hispanic  Midwest   \n",
              "4   P5   Non-Persistent  Female      Caucasian  Not Hispanic  Midwest   \n",
              "\n",
              "  Age_Bucket        Ntm_Speciality Ntm_Specialist_Flag  \\\n",
              "0        >75  GENERAL PRACTITIONER              Others   \n",
              "1      55-65  GENERAL PRACTITIONER              Others   \n",
              "2      65-75  GENERAL PRACTITIONER              Others   \n",
              "3        >75  GENERAL PRACTITIONER              Others   \n",
              "4        >75  GENERAL PRACTITIONER              Others   \n",
              "\n",
              "       Ntm_Speciality_Bucket  ... Risk_Family_History_Of_Osteoporosis  \\\n",
              "0  OB/GYN/Others/PCP/Unknown  ...                                   N   \n",
              "1  OB/GYN/Others/PCP/Unknown  ...                                   N   \n",
              "2  OB/GYN/Others/PCP/Unknown  ...                                   N   \n",
              "3  OB/GYN/Others/PCP/Unknown  ...                                   N   \n",
              "4  OB/GYN/Others/PCP/Unknown  ...                                   N   \n",
              "\n",
              "  Risk_Low_Calcium_Intake  Risk_Vitamin_D_Insufficiency  \\\n",
              "0                       N                             N   \n",
              "1                       N                             N   \n",
              "2                       Y                             N   \n",
              "3                       N                             N   \n",
              "4                       N                             N   \n",
              "\n",
              "  Risk_Poor_Health_Frailty Risk_Excessive_Thinness  \\\n",
              "0                        N                       N   \n",
              "1                        N                       N   \n",
              "2                        N                       N   \n",
              "3                        N                       N   \n",
              "4                        N                       N   \n",
              "\n",
              "  Risk_Hysterectomy_Oophorectomy Risk_Estrogen_Deficiency Risk_Immobilization  \\\n",
              "0                              N                        N                   N   \n",
              "1                              N                        N                   N   \n",
              "2                              N                        N                   N   \n",
              "3                              N                        N                   N   \n",
              "4                              N                        N                   N   \n",
              "\n",
              "  Risk_Recurring_Falls Count_Of_Risks  \n",
              "0                    N              0  \n",
              "1                    N              0  \n",
              "2                    N              2  \n",
              "3                    N              1  \n",
              "4                    N              1  \n",
              "\n",
              "[5 rows x 69 columns]"
            ]
          },
          "metadata": {
            "tags": []
          },
          "execution_count": 3
        }
      ]
    },
    {
      "cell_type": "code",
      "metadata": {
        "id": "2c4aaa09",
        "outputId": "2dae5d38-ecb3-4cfc-b0f5-f018c3eaf7a9"
      },
      "source": [
        "df.tail()"
      ],
      "id": "2c4aaa09",
      "execution_count": null,
      "outputs": [
        {
          "output_type": "execute_result",
          "data": {
            "text/html": [
              "<div>\n",
              "<style scoped>\n",
              "    .dataframe tbody tr th:only-of-type {\n",
              "        vertical-align: middle;\n",
              "    }\n",
              "\n",
              "    .dataframe tbody tr th {\n",
              "        vertical-align: top;\n",
              "    }\n",
              "\n",
              "    .dataframe thead th {\n",
              "        text-align: right;\n",
              "    }\n",
              "</style>\n",
              "<table border=\"1\" class=\"dataframe\">\n",
              "  <thead>\n",
              "    <tr style=\"text-align: right;\">\n",
              "      <th></th>\n",
              "      <th>Ptid</th>\n",
              "      <th>Persistency_Flag</th>\n",
              "      <th>Gender</th>\n",
              "      <th>Race</th>\n",
              "      <th>Ethnicity</th>\n",
              "      <th>Region</th>\n",
              "      <th>Age_Bucket</th>\n",
              "      <th>Ntm_Speciality</th>\n",
              "      <th>Ntm_Specialist_Flag</th>\n",
              "      <th>Ntm_Speciality_Bucket</th>\n",
              "      <th>...</th>\n",
              "      <th>Risk_Family_History_Of_Osteoporosis</th>\n",
              "      <th>Risk_Low_Calcium_Intake</th>\n",
              "      <th>Risk_Vitamin_D_Insufficiency</th>\n",
              "      <th>Risk_Poor_Health_Frailty</th>\n",
              "      <th>Risk_Excessive_Thinness</th>\n",
              "      <th>Risk_Hysterectomy_Oophorectomy</th>\n",
              "      <th>Risk_Estrogen_Deficiency</th>\n",
              "      <th>Risk_Immobilization</th>\n",
              "      <th>Risk_Recurring_Falls</th>\n",
              "      <th>Count_Of_Risks</th>\n",
              "    </tr>\n",
              "  </thead>\n",
              "  <tbody>\n",
              "    <tr>\n",
              "      <th>3419</th>\n",
              "      <td>P3420</td>\n",
              "      <td>Persistent</td>\n",
              "      <td>Female</td>\n",
              "      <td>Caucasian</td>\n",
              "      <td>Not Hispanic</td>\n",
              "      <td>South</td>\n",
              "      <td>&gt;75</td>\n",
              "      <td>GENERAL PRACTITIONER</td>\n",
              "      <td>Others</td>\n",
              "      <td>OB/GYN/Others/PCP/Unknown</td>\n",
              "      <td>...</td>\n",
              "      <td>N</td>\n",
              "      <td>N</td>\n",
              "      <td>Y</td>\n",
              "      <td>N</td>\n",
              "      <td>N</td>\n",
              "      <td>N</td>\n",
              "      <td>N</td>\n",
              "      <td>N</td>\n",
              "      <td>N</td>\n",
              "      <td>1</td>\n",
              "    </tr>\n",
              "    <tr>\n",
              "      <th>3420</th>\n",
              "      <td>P3421</td>\n",
              "      <td>Persistent</td>\n",
              "      <td>Female</td>\n",
              "      <td>Caucasian</td>\n",
              "      <td>Not Hispanic</td>\n",
              "      <td>South</td>\n",
              "      <td>&gt;75</td>\n",
              "      <td>Unknown</td>\n",
              "      <td>Others</td>\n",
              "      <td>OB/GYN/Others/PCP/Unknown</td>\n",
              "      <td>...</td>\n",
              "      <td>N</td>\n",
              "      <td>N</td>\n",
              "      <td>N</td>\n",
              "      <td>N</td>\n",
              "      <td>N</td>\n",
              "      <td>N</td>\n",
              "      <td>N</td>\n",
              "      <td>N</td>\n",
              "      <td>N</td>\n",
              "      <td>0</td>\n",
              "    </tr>\n",
              "    <tr>\n",
              "      <th>3421</th>\n",
              "      <td>P3422</td>\n",
              "      <td>Persistent</td>\n",
              "      <td>Female</td>\n",
              "      <td>Caucasian</td>\n",
              "      <td>Not Hispanic</td>\n",
              "      <td>South</td>\n",
              "      <td>&gt;75</td>\n",
              "      <td>ENDOCRINOLOGY</td>\n",
              "      <td>Specialist</td>\n",
              "      <td>Endo/Onc/Uro</td>\n",
              "      <td>...</td>\n",
              "      <td>N</td>\n",
              "      <td>N</td>\n",
              "      <td>Y</td>\n",
              "      <td>N</td>\n",
              "      <td>N</td>\n",
              "      <td>N</td>\n",
              "      <td>N</td>\n",
              "      <td>N</td>\n",
              "      <td>N</td>\n",
              "      <td>1</td>\n",
              "    </tr>\n",
              "    <tr>\n",
              "      <th>3422</th>\n",
              "      <td>P3423</td>\n",
              "      <td>Non-Persistent</td>\n",
              "      <td>Female</td>\n",
              "      <td>Caucasian</td>\n",
              "      <td>Not Hispanic</td>\n",
              "      <td>South</td>\n",
              "      <td>55-65</td>\n",
              "      <td>Unknown</td>\n",
              "      <td>Others</td>\n",
              "      <td>OB/GYN/Others/PCP/Unknown</td>\n",
              "      <td>...</td>\n",
              "      <td>N</td>\n",
              "      <td>N</td>\n",
              "      <td>N</td>\n",
              "      <td>N</td>\n",
              "      <td>N</td>\n",
              "      <td>N</td>\n",
              "      <td>N</td>\n",
              "      <td>N</td>\n",
              "      <td>N</td>\n",
              "      <td>0</td>\n",
              "    </tr>\n",
              "    <tr>\n",
              "      <th>3423</th>\n",
              "      <td>P3424</td>\n",
              "      <td>Non-Persistent</td>\n",
              "      <td>Female</td>\n",
              "      <td>Caucasian</td>\n",
              "      <td>Not Hispanic</td>\n",
              "      <td>South</td>\n",
              "      <td>65-75</td>\n",
              "      <td>Unknown</td>\n",
              "      <td>Others</td>\n",
              "      <td>OB/GYN/Others/PCP/Unknown</td>\n",
              "      <td>...</td>\n",
              "      <td>N</td>\n",
              "      <td>N</td>\n",
              "      <td>Y</td>\n",
              "      <td>N</td>\n",
              "      <td>N</td>\n",
              "      <td>N</td>\n",
              "      <td>N</td>\n",
              "      <td>N</td>\n",
              "      <td>N</td>\n",
              "      <td>1</td>\n",
              "    </tr>\n",
              "  </tbody>\n",
              "</table>\n",
              "<p>5 rows × 69 columns</p>\n",
              "</div>"
            ],
            "text/plain": [
              "       Ptid Persistency_Flag  Gender       Race     Ethnicity Region  \\\n",
              "3419  P3420       Persistent  Female  Caucasian  Not Hispanic  South   \n",
              "3420  P3421       Persistent  Female  Caucasian  Not Hispanic  South   \n",
              "3421  P3422       Persistent  Female  Caucasian  Not Hispanic  South   \n",
              "3422  P3423   Non-Persistent  Female  Caucasian  Not Hispanic  South   \n",
              "3423  P3424   Non-Persistent  Female  Caucasian  Not Hispanic  South   \n",
              "\n",
              "     Age_Bucket        Ntm_Speciality Ntm_Specialist_Flag  \\\n",
              "3419        >75  GENERAL PRACTITIONER              Others   \n",
              "3420        >75               Unknown              Others   \n",
              "3421        >75         ENDOCRINOLOGY          Specialist   \n",
              "3422      55-65               Unknown              Others   \n",
              "3423      65-75               Unknown              Others   \n",
              "\n",
              "          Ntm_Speciality_Bucket  ... Risk_Family_History_Of_Osteoporosis  \\\n",
              "3419  OB/GYN/Others/PCP/Unknown  ...                                   N   \n",
              "3420  OB/GYN/Others/PCP/Unknown  ...                                   N   \n",
              "3421               Endo/Onc/Uro  ...                                   N   \n",
              "3422  OB/GYN/Others/PCP/Unknown  ...                                   N   \n",
              "3423  OB/GYN/Others/PCP/Unknown  ...                                   N   \n",
              "\n",
              "     Risk_Low_Calcium_Intake  Risk_Vitamin_D_Insufficiency  \\\n",
              "3419                       N                             Y   \n",
              "3420                       N                             N   \n",
              "3421                       N                             Y   \n",
              "3422                       N                             N   \n",
              "3423                       N                             Y   \n",
              "\n",
              "     Risk_Poor_Health_Frailty Risk_Excessive_Thinness  \\\n",
              "3419                        N                       N   \n",
              "3420                        N                       N   \n",
              "3421                        N                       N   \n",
              "3422                        N                       N   \n",
              "3423                        N                       N   \n",
              "\n",
              "     Risk_Hysterectomy_Oophorectomy Risk_Estrogen_Deficiency  \\\n",
              "3419                              N                        N   \n",
              "3420                              N                        N   \n",
              "3421                              N                        N   \n",
              "3422                              N                        N   \n",
              "3423                              N                        N   \n",
              "\n",
              "     Risk_Immobilization Risk_Recurring_Falls Count_Of_Risks  \n",
              "3419                   N                    N              1  \n",
              "3420                   N                    N              0  \n",
              "3421                   N                    N              1  \n",
              "3422                   N                    N              0  \n",
              "3423                   N                    N              1  \n",
              "\n",
              "[5 rows x 69 columns]"
            ]
          },
          "metadata": {
            "tags": []
          },
          "execution_count": 4
        }
      ]
    },
    {
      "cell_type": "markdown",
      "metadata": {
        "id": "507e1302"
      },
      "source": [
        "## Dataset information"
      ],
      "id": "507e1302"
    },
    {
      "cell_type": "code",
      "metadata": {
        "id": "874847fa",
        "outputId": "0742f2b3-b40f-409f-905a-6ca3bdff8b16"
      },
      "source": [
        "#overall dataset information\n",
        "df.info()"
      ],
      "id": "874847fa",
      "execution_count": null,
      "outputs": [
        {
          "output_type": "stream",
          "text": [
            "<class 'pandas.core.frame.DataFrame'>\n",
            "RangeIndex: 3424 entries, 0 to 3423\n",
            "Data columns (total 69 columns):\n",
            " #   Column                                                              Non-Null Count  Dtype \n",
            "---  ------                                                              --------------  ----- \n",
            " 0   Ptid                                                                3424 non-null   object\n",
            " 1   Persistency_Flag                                                    3424 non-null   object\n",
            " 2   Gender                                                              3424 non-null   object\n",
            " 3   Race                                                                3424 non-null   object\n",
            " 4   Ethnicity                                                           3424 non-null   object\n",
            " 5   Region                                                              3424 non-null   object\n",
            " 6   Age_Bucket                                                          3424 non-null   object\n",
            " 7   Ntm_Speciality                                                      3424 non-null   object\n",
            " 8   Ntm_Specialist_Flag                                                 3424 non-null   object\n",
            " 9   Ntm_Speciality_Bucket                                               3424 non-null   object\n",
            " 10  Gluco_Record_Prior_Ntm                                              3424 non-null   object\n",
            " 11  Gluco_Record_During_Rx                                              3424 non-null   object\n",
            " 12  Dexa_Freq_During_Rx                                                 3424 non-null   int64 \n",
            " 13  Dexa_During_Rx                                                      3424 non-null   object\n",
            " 14  Frag_Frac_Prior_Ntm                                                 3424 non-null   object\n",
            " 15  Frag_Frac_During_Rx                                                 3424 non-null   object\n",
            " 16  Risk_Segment_Prior_Ntm                                              3424 non-null   object\n",
            " 17  Tscore_Bucket_Prior_Ntm                                             3424 non-null   object\n",
            " 18  Risk_Segment_During_Rx                                              3424 non-null   object\n",
            " 19  Tscore_Bucket_During_Rx                                             3424 non-null   object\n",
            " 20  Change_T_Score                                                      3424 non-null   object\n",
            " 21  Change_Risk_Segment                                                 3424 non-null   object\n",
            " 22  Adherent_Flag                                                       3424 non-null   object\n",
            " 23  Idn_Indicator                                                       3424 non-null   object\n",
            " 24  Injectable_Experience_During_Rx                                     3424 non-null   object\n",
            " 25  Comorb_Encounter_For_Screening_For_Malignant_Neoplasms              3424 non-null   object\n",
            " 26  Comorb_Encounter_For_Immunization                                   3424 non-null   object\n",
            " 27  Comorb_Encntr_For_General_Exam_W_O_Complaint,_Susp_Or_Reprtd_Dx     3424 non-null   object\n",
            " 28  Comorb_Vitamin_D_Deficiency                                         3424 non-null   object\n",
            " 29  Comorb_Other_Joint_Disorder_Not_Elsewhere_Classified                3424 non-null   object\n",
            " 30  Comorb_Encntr_For_Oth_Sp_Exam_W_O_Complaint_Suspected_Or_Reprtd_Dx  3424 non-null   object\n",
            " 31  Comorb_Long_Term_Current_Drug_Therapy                               3424 non-null   object\n",
            " 32  Comorb_Dorsalgia                                                    3424 non-null   object\n",
            " 33  Comorb_Personal_History_Of_Other_Diseases_And_Conditions            3424 non-null   object\n",
            " 34  Comorb_Other_Disorders_Of_Bone_Density_And_Structure                3424 non-null   object\n",
            " 35  Comorb_Disorders_of_lipoprotein_metabolism_and_other_lipidemias     3424 non-null   object\n",
            " 36  Comorb_Osteoporosis_without_current_pathological_fracture           3424 non-null   object\n",
            " 37  Comorb_Personal_history_of_malignant_neoplasm                       3424 non-null   object\n",
            " 38  Comorb_Gastro_esophageal_reflux_disease                             3424 non-null   object\n",
            " 39  Concom_Cholesterol_And_Triglyceride_Regulating_Preparations         3424 non-null   object\n",
            " 40  Concom_Narcotics                                                    3424 non-null   object\n",
            " 41  Concom_Systemic_Corticosteroids_Plain                               3424 non-null   object\n",
            " 42  Concom_Anti_Depressants_And_Mood_Stabilisers                        3424 non-null   object\n",
            " 43  Concom_Fluoroquinolones                                             3424 non-null   object\n",
            " 44  Concom_Cephalosporins                                               3424 non-null   object\n",
            " 45  Concom_Macrolides_And_Similar_Types                                 3424 non-null   object\n",
            " 46  Concom_Broad_Spectrum_Penicillins                                   3424 non-null   object\n",
            " 47  Concom_Anaesthetics_General                                         3424 non-null   object\n",
            " 48  Concom_Viral_Vaccines                                               3424 non-null   object\n",
            " 49  Risk_Type_1_Insulin_Dependent_Diabetes                              3424 non-null   object\n",
            " 50  Risk_Osteogenesis_Imperfecta                                        3424 non-null   object\n",
            " 51  Risk_Rheumatoid_Arthritis                                           3424 non-null   object\n",
            " 52  Risk_Untreated_Chronic_Hyperthyroidism                              3424 non-null   object\n",
            " 53  Risk_Untreated_Chronic_Hypogonadism                                 3424 non-null   object\n",
            " 54  Risk_Untreated_Early_Menopause                                      3424 non-null   object\n",
            " 55  Risk_Patient_Parent_Fractured_Their_Hip                             3424 non-null   object\n",
            " 56  Risk_Smoking_Tobacco                                                3424 non-null   object\n",
            " 57  Risk_Chronic_Malnutrition_Or_Malabsorption                          3424 non-null   object\n",
            " 58  Risk_Chronic_Liver_Disease                                          3424 non-null   object\n",
            " 59  Risk_Family_History_Of_Osteoporosis                                 3424 non-null   object\n",
            " 60  Risk_Low_Calcium_Intake                                             3424 non-null   object\n",
            " 61  Risk_Vitamin_D_Insufficiency                                        3424 non-null   object\n",
            " 62  Risk_Poor_Health_Frailty                                            3424 non-null   object\n",
            " 63  Risk_Excessive_Thinness                                             3424 non-null   object\n",
            " 64  Risk_Hysterectomy_Oophorectomy                                      3424 non-null   object\n",
            " 65  Risk_Estrogen_Deficiency                                            3424 non-null   object\n",
            " 66  Risk_Immobilization                                                 3424 non-null   object\n",
            " 67  Risk_Recurring_Falls                                                3424 non-null   object\n",
            " 68  Count_Of_Risks                                                      3424 non-null   int64 \n",
            "dtypes: int64(2), object(67)\n",
            "memory usage: 1.8+ MB\n"
          ],
          "name": "stdout"
        }
      ]
    },
    {
      "cell_type": "code",
      "metadata": {
        "id": "e6f4c6db",
        "outputId": "e4153b3c-893f-48ec-aef6-2d0375896deb"
      },
      "source": [
        "df.dtypes"
      ],
      "id": "e6f4c6db",
      "execution_count": null,
      "outputs": [
        {
          "output_type": "execute_result",
          "data": {
            "text/plain": [
              "Ptid                              object\n",
              "Persistency_Flag                  object\n",
              "Gender                            object\n",
              "Race                              object\n",
              "Ethnicity                         object\n",
              "                                   ...  \n",
              "Risk_Hysterectomy_Oophorectomy    object\n",
              "Risk_Estrogen_Deficiency          object\n",
              "Risk_Immobilization               object\n",
              "Risk_Recurring_Falls              object\n",
              "Count_Of_Risks                     int64\n",
              "Length: 69, dtype: object"
            ]
          },
          "metadata": {
            "tags": []
          },
          "execution_count": 6
        }
      ]
    },
    {
      "cell_type": "code",
      "metadata": {
        "id": "9922b5f1",
        "outputId": "3958bf07-86ce-4a57-cae1-88f4049f2952"
      },
      "source": [
        "#We have 3424 observations and 69 features.\n",
        "df.shape"
      ],
      "id": "9922b5f1",
      "execution_count": null,
      "outputs": [
        {
          "output_type": "execute_result",
          "data": {
            "text/plain": [
              "(3424, 69)"
            ]
          },
          "metadata": {
            "tags": []
          },
          "execution_count": 7
        }
      ]
    },
    {
      "cell_type": "markdown",
      "metadata": {
        "id": "248b0380"
      },
      "source": [
        "## Checking whether the dataset has any null values"
      ],
      "id": "248b0380"
    },
    {
      "cell_type": "code",
      "metadata": {
        "id": "f7f69fa0",
        "outputId": "c38bbcd6-fe90-4bfb-a6cf-6b868d77a6fa"
      },
      "source": [
        "df.isnull().values.any()"
      ],
      "id": "f7f69fa0",
      "execution_count": null,
      "outputs": [
        {
          "output_type": "execute_result",
          "data": {
            "text/plain": [
              "False"
            ]
          },
          "metadata": {
            "tags": []
          },
          "execution_count": 8
        }
      ]
    },
    {
      "cell_type": "code",
      "metadata": {
        "id": "a2e6c59e",
        "outputId": "c81b9bd1-832a-401e-9624-c133eb098017"
      },
      "source": [
        "df.isnull().sum()"
      ],
      "id": "a2e6c59e",
      "execution_count": null,
      "outputs": [
        {
          "output_type": "execute_result",
          "data": {
            "text/plain": [
              "Ptid                              0\n",
              "Persistency_Flag                  0\n",
              "Gender                            0\n",
              "Race                              0\n",
              "Ethnicity                         0\n",
              "                                 ..\n",
              "Risk_Hysterectomy_Oophorectomy    0\n",
              "Risk_Estrogen_Deficiency          0\n",
              "Risk_Immobilization               0\n",
              "Risk_Recurring_Falls              0\n",
              "Count_Of_Risks                    0\n",
              "Length: 69, dtype: int64"
            ]
          },
          "metadata": {
            "tags": []
          },
          "execution_count": 9
        }
      ]
    },
    {
      "cell_type": "markdown",
      "metadata": {
        "id": "a3077211"
      },
      "source": [
        "## Dataset Preparation:"
      ],
      "id": "a3077211"
    },
    {
      "cell_type": "markdown",
      "metadata": {
        "id": "253bde12"
      },
      "source": [
        "## Detecting Outliers"
      ],
      "id": "253bde12"
    },
    {
      "cell_type": "code",
      "metadata": {
        "id": "4311af93"
      },
      "source": [
        "df_Dexa= df[\"Dexa_Freq_During_Rx\"]"
      ],
      "id": "4311af93",
      "execution_count": null,
      "outputs": []
    },
    {
      "cell_type": "code",
      "metadata": {
        "id": "43913e7e",
        "outputId": "d5ba13c1-3ba2-48ff-91b2-8b75dff69bce"
      },
      "source": [
        "sns.boxplot(x=df_Dexa);"
      ],
      "id": "43913e7e",
      "execution_count": null,
      "outputs": [
        {
          "output_type": "display_data",
          "data": {
            "image/png": "[encoded data removed]",
            "text/plain": [
              "<Figure size 432x288 with 1 Axes>"
            ]
          },
          "metadata": {
            "tags": [],
            "needs_background": "light"
          }
        }
      ]
    },
    {
      "cell_type": "code",
      "metadata": {
        "id": "25322a6f"
      },
      "source": [
        "Q1=df_Dexa.quantile(0.25)\n",
        "Q3=df_Dexa.quantile(0.75)\n",
        "IQR=Q3-Q1"
      ],
      "id": "25322a6f",
      "execution_count": null,
      "outputs": []
    },
    {
      "cell_type": "code",
      "metadata": {
        "id": "47aab4c4"
      },
      "source": [
        "lower_bound= Q1-1.5*IQR\n",
        "upper_bound= Q3+ 1.5*IQR"
      ],
      "id": "47aab4c4",
      "execution_count": null,
      "outputs": []
    },
    {
      "cell_type": "code",
      "metadata": {
        "id": "431a577b",
        "outputId": "3b3ff9bd-8186-47f8-d97c-00beb8d90f77"
      },
      "source": [
        "upper_bound"
      ],
      "id": "431a577b",
      "execution_count": null,
      "outputs": [
        {
          "output_type": "execute_result",
          "data": {
            "text/plain": [
              "7.5"
            ]
          },
          "metadata": {
            "tags": []
          },
          "execution_count": 113
        }
      ]
    },
    {
      "cell_type": "code",
      "metadata": {
        "id": "60d54e55",
        "outputId": "eaea952b-4705-454d-9940-118b2b1525d4"
      },
      "source": [
        "outlier_dexa= (df_Dexa< lower_bound) | (df_Dexa> upper_bound)\n",
        "outlier_dexa.head()"
      ],
      "id": "60d54e55",
      "execution_count": null,
      "outputs": [
        {
          "output_type": "execute_result",
          "data": {
            "text/plain": [
              "0    False\n",
              "1    False\n",
              "2    False\n",
              "3    False\n",
              "4    False\n",
              "Name: Dexa_Freq_During_Rx, dtype: bool"
            ]
          },
          "metadata": {
            "tags": []
          },
          "execution_count": 114
        }
      ]
    },
    {
      "cell_type": "code",
      "metadata": {
        "id": "38dae3a2",
        "outputId": "3f6f1c85-5076-411c-a314-2a221410c187"
      },
      "source": [
        "df[outlier_dexa]"
      ],
      "id": "38dae3a2",
      "execution_count": null,
      "outputs": [
        {
          "output_type": "execute_result",
          "data": {
            "text/html": [
              "<div>\n",
              "<style scoped>\n",
              "    .dataframe tbody tr th:only-of-type {\n",
              "        vertical-align: middle;\n",
              "    }\n",
              "\n",
              "    .dataframe tbody tr th {\n",
              "        vertical-align: top;\n",
              "    }\n",
              "\n",
              "    .dataframe thead th {\n",
              "        text-align: right;\n",
              "    }\n",
              "</style>\n",
              "<table border=\"1\" class=\"dataframe\">\n",
              "  <thead>\n",
              "    <tr style=\"text-align: right;\">\n",
              "      <th></th>\n",
              "      <th>Ptid</th>\n",
              "      <th>Persistency_Flag</th>\n",
              "      <th>Gender</th>\n",
              "      <th>Race</th>\n",
              "      <th>Ethnicity</th>\n",
              "      <th>Region</th>\n",
              "      <th>Age_Bucket</th>\n",
              "      <th>Ntm_Speciality</th>\n",
              "      <th>Ntm_Specialist_Flag</th>\n",
              "      <th>Ntm_Speciality_Bucket</th>\n",
              "      <th>...</th>\n",
              "      <th>Risk_Family_History_Of_Osteoporosis</th>\n",
              "      <th>Risk_Low_Calcium_Intake</th>\n",
              "      <th>Risk_Vitamin_D_Insufficiency</th>\n",
              "      <th>Risk_Poor_Health_Frailty</th>\n",
              "      <th>Risk_Excessive_Thinness</th>\n",
              "      <th>Risk_Hysterectomy_Oophorectomy</th>\n",
              "      <th>Risk_Estrogen_Deficiency</th>\n",
              "      <th>Risk_Immobilization</th>\n",
              "      <th>Risk_Recurring_Falls</th>\n",
              "      <th>Count_Of_Risks</th>\n",
              "    </tr>\n",
              "  </thead>\n",
              "  <tbody>\n",
              "    <tr>\n",
              "      <th>32</th>\n",
              "      <td>P33</td>\n",
              "      <td>Non-Persistent</td>\n",
              "      <td>Female</td>\n",
              "      <td>Caucasian</td>\n",
              "      <td>Not Hispanic</td>\n",
              "      <td>Midwest</td>\n",
              "      <td>&gt;75</td>\n",
              "      <td>Unknown</td>\n",
              "      <td>Others</td>\n",
              "      <td>OB/GYN/Others/PCP/Unknown</td>\n",
              "      <td>...</td>\n",
              "      <td>N</td>\n",
              "      <td>N</td>\n",
              "      <td>N</td>\n",
              "      <td>N</td>\n",
              "      <td>N</td>\n",
              "      <td>N</td>\n",
              "      <td>N</td>\n",
              "      <td>N</td>\n",
              "      <td>N</td>\n",
              "      <td>0</td>\n",
              "    </tr>\n",
              "    <tr>\n",
              "      <th>33</th>\n",
              "      <td>P34</td>\n",
              "      <td>Non-Persistent</td>\n",
              "      <td>Female</td>\n",
              "      <td>Caucasian</td>\n",
              "      <td>Not Hispanic</td>\n",
              "      <td>Midwest</td>\n",
              "      <td>&gt;75</td>\n",
              "      <td>GENERAL PRACTITIONER</td>\n",
              "      <td>Others</td>\n",
              "      <td>OB/GYN/Others/PCP/Unknown</td>\n",
              "      <td>...</td>\n",
              "      <td>N</td>\n",
              "      <td>N</td>\n",
              "      <td>N</td>\n",
              "      <td>N</td>\n",
              "      <td>N</td>\n",
              "      <td>N</td>\n",
              "      <td>N</td>\n",
              "      <td>N</td>\n",
              "      <td>N</td>\n",
              "      <td>0</td>\n",
              "    </tr>\n",
              "    <tr>\n",
              "      <th>62</th>\n",
              "      <td>P63</td>\n",
              "      <td>Non-Persistent</td>\n",
              "      <td>Female</td>\n",
              "      <td>Caucasian</td>\n",
              "      <td>Not Hispanic</td>\n",
              "      <td>Midwest</td>\n",
              "      <td>65-75</td>\n",
              "      <td>GENERAL PRACTITIONER</td>\n",
              "      <td>Others</td>\n",
              "      <td>OB/GYN/Others/PCP/Unknown</td>\n",
              "      <td>...</td>\n",
              "      <td>N</td>\n",
              "      <td>N</td>\n",
              "      <td>N</td>\n",
              "      <td>N</td>\n",
              "      <td>N</td>\n",
              "      <td>N</td>\n",
              "      <td>N</td>\n",
              "      <td>N</td>\n",
              "      <td>N</td>\n",
              "      <td>0</td>\n",
              "    </tr>\n",
              "    <tr>\n",
              "      <th>65</th>\n",
              "      <td>P66</td>\n",
              "      <td>Persistent</td>\n",
              "      <td>Female</td>\n",
              "      <td>Asian</td>\n",
              "      <td>Not Hispanic</td>\n",
              "      <td>Midwest</td>\n",
              "      <td>65-75</td>\n",
              "      <td>GENERAL PRACTITIONER</td>\n",
              "      <td>Others</td>\n",
              "      <td>OB/GYN/Others/PCP/Unknown</td>\n",
              "      <td>...</td>\n",
              "      <td>N</td>\n",
              "      <td>N</td>\n",
              "      <td>N</td>\n",
              "      <td>N</td>\n",
              "      <td>N</td>\n",
              "      <td>N</td>\n",
              "      <td>N</td>\n",
              "      <td>N</td>\n",
              "      <td>N</td>\n",
              "      <td>2</td>\n",
              "    </tr>\n",
              "    <tr>\n",
              "      <th>89</th>\n",
              "      <td>P90</td>\n",
              "      <td>Non-Persistent</td>\n",
              "      <td>Female</td>\n",
              "      <td>Other/Unknown</td>\n",
              "      <td>Not Hispanic</td>\n",
              "      <td>Midwest</td>\n",
              "      <td>65-75</td>\n",
              "      <td>GENERAL PRACTITIONER</td>\n",
              "      <td>Others</td>\n",
              "      <td>OB/GYN/Others/PCP/Unknown</td>\n",
              "      <td>...</td>\n",
              "      <td>Y</td>\n",
              "      <td>N</td>\n",
              "      <td>Y</td>\n",
              "      <td>N</td>\n",
              "      <td>N</td>\n",
              "      <td>N</td>\n",
              "      <td>N</td>\n",
              "      <td>N</td>\n",
              "      <td>N</td>\n",
              "      <td>3</td>\n",
              "    </tr>\n",
              "    <tr>\n",
              "      <th>...</th>\n",
              "      <td>...</td>\n",
              "      <td>...</td>\n",
              "      <td>...</td>\n",
              "      <td>...</td>\n",
              "      <td>...</td>\n",
              "      <td>...</td>\n",
              "      <td>...</td>\n",
              "      <td>...</td>\n",
              "      <td>...</td>\n",
              "      <td>...</td>\n",
              "      <td>...</td>\n",
              "      <td>...</td>\n",
              "      <td>...</td>\n",
              "      <td>...</td>\n",
              "      <td>...</td>\n",
              "      <td>...</td>\n",
              "      <td>...</td>\n",
              "      <td>...</td>\n",
              "      <td>...</td>\n",
              "      <td>...</td>\n",
              "      <td>...</td>\n",
              "    </tr>\n",
              "    <tr>\n",
              "      <th>3384</th>\n",
              "      <td>P3385</td>\n",
              "      <td>Persistent</td>\n",
              "      <td>Female</td>\n",
              "      <td>Caucasian</td>\n",
              "      <td>Not Hispanic</td>\n",
              "      <td>South</td>\n",
              "      <td>&gt;75</td>\n",
              "      <td>ORTHOPEDIC SURGERY</td>\n",
              "      <td>Others</td>\n",
              "      <td>OB/GYN/Others/PCP/Unknown</td>\n",
              "      <td>...</td>\n",
              "      <td>Y</td>\n",
              "      <td>N</td>\n",
              "      <td>Y</td>\n",
              "      <td>N</td>\n",
              "      <td>N</td>\n",
              "      <td>N</td>\n",
              "      <td>N</td>\n",
              "      <td>N</td>\n",
              "      <td>N</td>\n",
              "      <td>2</td>\n",
              "    </tr>\n",
              "    <tr>\n",
              "      <th>3396</th>\n",
              "      <td>P3397</td>\n",
              "      <td>Persistent</td>\n",
              "      <td>Female</td>\n",
              "      <td>Caucasian</td>\n",
              "      <td>Not Hispanic</td>\n",
              "      <td>South</td>\n",
              "      <td>65-75</td>\n",
              "      <td>GENERAL PRACTITIONER</td>\n",
              "      <td>Others</td>\n",
              "      <td>OB/GYN/Others/PCP/Unknown</td>\n",
              "      <td>...</td>\n",
              "      <td>N</td>\n",
              "      <td>N</td>\n",
              "      <td>Y</td>\n",
              "      <td>N</td>\n",
              "      <td>N</td>\n",
              "      <td>N</td>\n",
              "      <td>N</td>\n",
              "      <td>N</td>\n",
              "      <td>N</td>\n",
              "      <td>1</td>\n",
              "    </tr>\n",
              "    <tr>\n",
              "      <th>3400</th>\n",
              "      <td>P3401</td>\n",
              "      <td>Non-Persistent</td>\n",
              "      <td>Female</td>\n",
              "      <td>Caucasian</td>\n",
              "      <td>Not Hispanic</td>\n",
              "      <td>West</td>\n",
              "      <td>55-65</td>\n",
              "      <td>GENERAL PRACTITIONER</td>\n",
              "      <td>Others</td>\n",
              "      <td>OB/GYN/Others/PCP/Unknown</td>\n",
              "      <td>...</td>\n",
              "      <td>N</td>\n",
              "      <td>N</td>\n",
              "      <td>N</td>\n",
              "      <td>N</td>\n",
              "      <td>N</td>\n",
              "      <td>N</td>\n",
              "      <td>N</td>\n",
              "      <td>N</td>\n",
              "      <td>N</td>\n",
              "      <td>2</td>\n",
              "    </tr>\n",
              "    <tr>\n",
              "      <th>3411</th>\n",
              "      <td>P3412</td>\n",
              "      <td>Persistent</td>\n",
              "      <td>Female</td>\n",
              "      <td>Caucasian</td>\n",
              "      <td>Not Hispanic</td>\n",
              "      <td>South</td>\n",
              "      <td>65-75</td>\n",
              "      <td>GENERAL PRACTITIONER</td>\n",
              "      <td>Others</td>\n",
              "      <td>OB/GYN/Others/PCP/Unknown</td>\n",
              "      <td>...</td>\n",
              "      <td>N</td>\n",
              "      <td>N</td>\n",
              "      <td>Y</td>\n",
              "      <td>N</td>\n",
              "      <td>N</td>\n",
              "      <td>N</td>\n",
              "      <td>N</td>\n",
              "      <td>N</td>\n",
              "      <td>N</td>\n",
              "      <td>1</td>\n",
              "    </tr>\n",
              "    <tr>\n",
              "      <th>3414</th>\n",
              "      <td>P3415</td>\n",
              "      <td>Persistent</td>\n",
              "      <td>Female</td>\n",
              "      <td>Caucasian</td>\n",
              "      <td>Not Hispanic</td>\n",
              "      <td>South</td>\n",
              "      <td>&gt;75</td>\n",
              "      <td>GENERAL PRACTITIONER</td>\n",
              "      <td>Others</td>\n",
              "      <td>OB/GYN/Others/PCP/Unknown</td>\n",
              "      <td>...</td>\n",
              "      <td>N</td>\n",
              "      <td>N</td>\n",
              "      <td>N</td>\n",
              "      <td>N</td>\n",
              "      <td>N</td>\n",
              "      <td>N</td>\n",
              "      <td>N</td>\n",
              "      <td>N</td>\n",
              "      <td>N</td>\n",
              "      <td>0</td>\n",
              "    </tr>\n",
              "  </tbody>\n",
              "</table>\n",
              "<p>460 rows × 69 columns</p>\n",
              "</div>"
            ],
            "text/plain": [
              "       Ptid Persistency_Flag  Gender           Race     Ethnicity   Region  \\\n",
              "32      P33   Non-Persistent  Female      Caucasian  Not Hispanic  Midwest   \n",
              "33      P34   Non-Persistent  Female      Caucasian  Not Hispanic  Midwest   \n",
              "62      P63   Non-Persistent  Female      Caucasian  Not Hispanic  Midwest   \n",
              "65      P66       Persistent  Female          Asian  Not Hispanic  Midwest   \n",
              "89      P90   Non-Persistent  Female  Other/Unknown  Not Hispanic  Midwest   \n",
              "...     ...              ...     ...            ...           ...      ...   \n",
              "3384  P3385       Persistent  Female      Caucasian  Not Hispanic    South   \n",
              "3396  P3397       Persistent  Female      Caucasian  Not Hispanic    South   \n",
              "3400  P3401   Non-Persistent  Female      Caucasian  Not Hispanic     West   \n",
              "3411  P3412       Persistent  Female      Caucasian  Not Hispanic    South   \n",
              "3414  P3415       Persistent  Female      Caucasian  Not Hispanic    South   \n",
              "\n",
              "     Age_Bucket        Ntm_Speciality Ntm_Specialist_Flag  \\\n",
              "32          >75               Unknown              Others   \n",
              "33          >75  GENERAL PRACTITIONER              Others   \n",
              "62        65-75  GENERAL PRACTITIONER              Others   \n",
              "65        65-75  GENERAL PRACTITIONER              Others   \n",
              "89        65-75  GENERAL PRACTITIONER              Others   \n",
              "...         ...                   ...                 ...   \n",
              "3384        >75    ORTHOPEDIC SURGERY              Others   \n",
              "3396      65-75  GENERAL PRACTITIONER              Others   \n",
              "3400      55-65  GENERAL PRACTITIONER              Others   \n",
              "3411      65-75  GENERAL PRACTITIONER              Others   \n",
              "3414        >75  GENERAL PRACTITIONER              Others   \n",
              "\n",
              "          Ntm_Speciality_Bucket  ... Risk_Family_History_Of_Osteoporosis  \\\n",
              "32    OB/GYN/Others/PCP/Unknown  ...                                   N   \n",
              "33    OB/GYN/Others/PCP/Unknown  ...                                   N   \n",
              "62    OB/GYN/Others/PCP/Unknown  ...                                   N   \n",
              "65    OB/GYN/Others/PCP/Unknown  ...                                   N   \n",
              "89    OB/GYN/Others/PCP/Unknown  ...                                   Y   \n",
              "...                         ...  ...                                 ...   \n",
              "3384  OB/GYN/Others/PCP/Unknown  ...                                   Y   \n",
              "3396  OB/GYN/Others/PCP/Unknown  ...                                   N   \n",
              "3400  OB/GYN/Others/PCP/Unknown  ...                                   N   \n",
              "3411  OB/GYN/Others/PCP/Unknown  ...                                   N   \n",
              "3414  OB/GYN/Others/PCP/Unknown  ...                                   N   \n",
              "\n",
              "     Risk_Low_Calcium_Intake  Risk_Vitamin_D_Insufficiency  \\\n",
              "32                         N                             N   \n",
              "33                         N                             N   \n",
              "62                         N                             N   \n",
              "65                         N                             N   \n",
              "89                         N                             Y   \n",
              "...                      ...                           ...   \n",
              "3384                       N                             Y   \n",
              "3396                       N                             Y   \n",
              "3400                       N                             N   \n",
              "3411                       N                             Y   \n",
              "3414                       N                             N   \n",
              "\n",
              "     Risk_Poor_Health_Frailty Risk_Excessive_Thinness  \\\n",
              "32                          N                       N   \n",
              "33                          N                       N   \n",
              "62                          N                       N   \n",
              "65                          N                       N   \n",
              "89                          N                       N   \n",
              "...                       ...                     ...   \n",
              "3384                        N                       N   \n",
              "3396                        N                       N   \n",
              "3400                        N                       N   \n",
              "3411                        N                       N   \n",
              "3414                        N                       N   \n",
              "\n",
              "     Risk_Hysterectomy_Oophorectomy Risk_Estrogen_Deficiency  \\\n",
              "32                                N                        N   \n",
              "33                                N                        N   \n",
              "62                                N                        N   \n",
              "65                                N                        N   \n",
              "89                                N                        N   \n",
              "...                             ...                      ...   \n",
              "3384                              N                        N   \n",
              "3396                              N                        N   \n",
              "3400                              N                        N   \n",
              "3411                              N                        N   \n",
              "3414                              N                        N   \n",
              "\n",
              "     Risk_Immobilization Risk_Recurring_Falls Count_Of_Risks  \n",
              "32                     N                    N              0  \n",
              "33                     N                    N              0  \n",
              "62                     N                    N              0  \n",
              "65                     N                    N              2  \n",
              "89                     N                    N              3  \n",
              "...                  ...                  ...            ...  \n",
              "3384                   N                    N              2  \n",
              "3396                   N                    N              1  \n",
              "3400                   N                    N              2  \n",
              "3411                   N                    N              1  \n",
              "3414                   N                    N              0  \n",
              "\n",
              "[460 rows x 69 columns]"
            ]
          },
          "metadata": {
            "tags": []
          },
          "execution_count": 115
        }
      ]
    },
    {
      "cell_type": "code",
      "metadata": {
        "id": "75e08c4a",
        "outputId": "5f58f86e-b751-42e5-de9d-0b5c120007ed"
      },
      "source": [
        "df[outlier_dexa].index"
      ],
      "id": "75e08c4a",
      "execution_count": null,
      "outputs": [
        {
          "output_type": "execute_result",
          "data": {
            "text/plain": [
              "Int64Index([  32,   33,   62,   65,   89,  101,  110,  116,  164,  180,\n",
              "            ...\n",
              "            3311, 3325, 3363, 3378, 3382, 3384, 3396, 3400, 3411, 3414],\n",
              "           dtype='int64', length=460)"
            ]
          },
          "metadata": {
            "tags": []
          },
          "execution_count": 116
        }
      ]
    },
    {
      "cell_type": "markdown",
      "metadata": {
        "id": "e0631f8f"
      },
      "source": [
        "## Solving Outliers for \"Dexa_Freq_During_Rx\":"
      ],
      "id": "e0631f8f"
    },
    {
      "cell_type": "code",
      "metadata": {
        "id": "9b132464",
        "outputId": "6cc17fac-aa9f-419e-90f0-223c5b7a0220"
      },
      "source": [
        "#Solving outliers for Dexa:\n",
        "df_Dexa[outlier_dexa]"
      ],
      "id": "9b132464",
      "execution_count": null,
      "outputs": [
        {
          "output_type": "execute_result",
          "data": {
            "text/plain": [
              "32      20\n",
              "33      13\n",
              "62      12\n",
              "65      20\n",
              "89      10\n",
              "        ..\n",
              "3384    12\n",
              "3396    10\n",
              "3400    12\n",
              "3411     8\n",
              "3414     8\n",
              "Name: Dexa_Freq_During_Rx, Length: 460, dtype: int64"
            ]
          },
          "metadata": {
            "tags": []
          },
          "execution_count": 117
        }
      ]
    },
    {
      "cell_type": "code",
      "metadata": {
        "scrolled": true,
        "id": "2f989e89",
        "outputId": "c2e14786-4831-46e1-c920-991cd2eccd9c"
      },
      "source": [
        "df_Dexa[outlier_dexa]=upper_bound"
      ],
      "id": "2f989e89",
      "execution_count": null,
      "outputs": [
        {
          "output_type": "stream",
          "text": [
            "<ipython-input-118-6f2cd98ff1ce>:1: SettingWithCopyWarning: \n",
            "A value is trying to be set on a copy of a slice from a DataFrame\n",
            "\n",
            "See the caveats in the documentation: https://pandas.pydata.org/pandas-docs/stable/user_guide/indexing.html#returning-a-view-versus-a-copy\n",
            "  df_Dexa[outlier_dexa]=upper_bound\n"
          ],
          "name": "stderr"
        }
      ]
    },
    {
      "cell_type": "code",
      "metadata": {
        "id": "3a46a45f",
        "outputId": "532da28a-4189-4ae9-b14b-1c1c0f355cf8"
      },
      "source": [
        "#checking whether we changed the outliers successfully:\n",
        "df_Dexa[outlier_dexa]"
      ],
      "id": "3a46a45f",
      "execution_count": null,
      "outputs": [
        {
          "output_type": "execute_result",
          "data": {
            "text/plain": [
              "32      7.5\n",
              "33      7.5\n",
              "62      7.5\n",
              "65      7.5\n",
              "89      7.5\n",
              "       ... \n",
              "3384    7.5\n",
              "3396    7.5\n",
              "3400    7.5\n",
              "3411    7.5\n",
              "3414    7.5\n",
              "Name: Dexa_Freq_During_Rx, Length: 460, dtype: float64"
            ]
          },
          "metadata": {
            "tags": []
          },
          "execution_count": 119
        }
      ]
    },
    {
      "cell_type": "markdown",
      "metadata": {
        "id": "07554297"
      },
      "source": [
        "## Computing the number of outliers:"
      ],
      "id": "07554297"
    },
    {
      "cell_type": "code",
      "metadata": {
        "id": "021beaf3",
        "outputId": "8beba1ae-7709-4519-e1e7-b9ac04efd399"
      },
      "source": [
        "type(outlier_dexa)"
      ],
      "id": "021beaf3",
      "execution_count": null,
      "outputs": [
        {
          "output_type": "execute_result",
          "data": {
            "text/plain": [
              "pandas.core.series.Series"
            ]
          },
          "metadata": {
            "tags": []
          },
          "execution_count": 120
        }
      ]
    },
    {
      "cell_type": "code",
      "metadata": {
        "id": "890e2ead"
      },
      "source": [
        "outlier_dexa=pd.DataFrame(outlier_dexa)"
      ],
      "id": "890e2ead",
      "execution_count": null,
      "outputs": []
    },
    {
      "cell_type": "code",
      "metadata": {
        "id": "ca6c4135",
        "outputId": "e7f3a783-cb9a-4de8-dabe-0c06c25565e2"
      },
      "source": [
        "outlier_dexa.shape"
      ],
      "id": "ca6c4135",
      "execution_count": null,
      "outputs": [
        {
          "output_type": "execute_result",
          "data": {
            "text/plain": [
              "(3424, 1)"
            ]
          },
          "metadata": {
            "tags": []
          },
          "execution_count": 122
        }
      ]
    },
    {
      "cell_type": "code",
      "metadata": {
        "scrolled": true,
        "id": "f2e3a32c",
        "outputId": "18f2e831-85bc-4576-fe64-b6bf1e5ca890"
      },
      "source": [
        "n_outlier_dexa= outlier_dexa[~ ((df_Dexa< (lower_bound)) | (df_Dexa> (upper_bound)))]\n",
        "n_outlier_dexa.shape"
      ],
      "id": "f2e3a32c",
      "execution_count": null,
      "outputs": [
        {
          "output_type": "execute_result",
          "data": {
            "text/plain": [
              "(3424, 1)"
            ]
          },
          "metadata": {
            "tags": []
          },
          "execution_count": 123
        }
      ]
    },
    {
      "cell_type": "markdown",
      "metadata": {
        "id": "02b77f08"
      },
      "source": [
        "## Conclusion: We have 3424-2964= 460 outlier variables."
      ],
      "id": "02b77f08"
    },
    {
      "cell_type": "markdown",
      "metadata": {
        "id": "0cbf604a"
      },
      "source": [
        "## Outliers for Count of Risks:\n"
      ],
      "id": "0cbf604a"
    },
    {
      "cell_type": "code",
      "metadata": {
        "id": "59bbbea3"
      },
      "source": [
        "df_Risks=df[\"Count_Of_Risks\"]"
      ],
      "id": "59bbbea3",
      "execution_count": null,
      "outputs": []
    },
    {
      "cell_type": "code",
      "metadata": {
        "id": "d1631c07",
        "outputId": "00432db1-1534-4cc0-8fc9-4fe42084ce1e"
      },
      "source": [
        "sns.boxplot(x=df_Risks)"
      ],
      "id": "d1631c07",
      "execution_count": null,
      "outputs": [
        {
          "output_type": "execute_result",
          "data": {
            "text/plain": [
              "<AxesSubplot:xlabel='Count_Of_Risks'>"
            ]
          },
          "metadata": {
            "tags": []
          },
          "execution_count": 125
        },
        {
          "output_type": "display_data",
          "data": {
            "image/png": "[encoded data removed]",
            "text/plain": [
              "<Figure size 432x288 with 1 Axes>"
            ]
          },
          "metadata": {
            "tags": [],
            "needs_background": "light"
          }
        }
      ]
    },
    {
      "cell_type": "code",
      "metadata": {
        "id": "97a3c99f"
      },
      "source": [
        "Q1=df_Risks.quantile(0.25)\n",
        "Q3=df_Risks.quantile(0.75)\n",
        "IQR=Q3-Q1"
      ],
      "id": "97a3c99f",
      "execution_count": null,
      "outputs": []
    },
    {
      "cell_type": "code",
      "metadata": {
        "id": "367784da"
      },
      "source": [
        "lower_bound= Q1-1.5*IQR\n",
        "upper_bound= Q3+ 1.5*IQR"
      ],
      "id": "367784da",
      "execution_count": null,
      "outputs": []
    },
    {
      "cell_type": "code",
      "metadata": {
        "id": "da39b200",
        "outputId": "885a2bf2-8eaa-4b55-d12e-6a68b7e09528"
      },
      "source": [
        "outlier_risks= (df_Risks< lower_bound) | (df_Risks> upper_bound)\n",
        "outlier_risks.head()"
      ],
      "id": "da39b200",
      "execution_count": null,
      "outputs": [
        {
          "output_type": "execute_result",
          "data": {
            "text/plain": [
              "0    False\n",
              "1    False\n",
              "2    False\n",
              "3    False\n",
              "4    False\n",
              "Name: Count_Of_Risks, dtype: bool"
            ]
          },
          "metadata": {
            "tags": []
          },
          "execution_count": 128
        }
      ]
    },
    {
      "cell_type": "code",
      "metadata": {
        "id": "2e71c968",
        "outputId": "535a751e-d96f-4b34-86e5-45123fb81c2a"
      },
      "source": [
        "df[outlier_risks]"
      ],
      "id": "2e71c968",
      "execution_count": null,
      "outputs": [
        {
          "output_type": "execute_result",
          "data": {
            "text/html": [
              "<div>\n",
              "<style scoped>\n",
              "    .dataframe tbody tr th:only-of-type {\n",
              "        vertical-align: middle;\n",
              "    }\n",
              "\n",
              "    .dataframe tbody tr th {\n",
              "        vertical-align: top;\n",
              "    }\n",
              "\n",
              "    .dataframe thead th {\n",
              "        text-align: right;\n",
              "    }\n",
              "</style>\n",
              "<table border=\"1\" class=\"dataframe\">\n",
              "  <thead>\n",
              "    <tr style=\"text-align: right;\">\n",
              "      <th></th>\n",
              "      <th>Ptid</th>\n",
              "      <th>Persistency_Flag</th>\n",
              "      <th>Gender</th>\n",
              "      <th>Race</th>\n",
              "      <th>Ethnicity</th>\n",
              "      <th>Region</th>\n",
              "      <th>Age_Bucket</th>\n",
              "      <th>Ntm_Speciality</th>\n",
              "      <th>Ntm_Specialist_Flag</th>\n",
              "      <th>Ntm_Speciality_Bucket</th>\n",
              "      <th>...</th>\n",
              "      <th>Risk_Family_History_Of_Osteoporosis</th>\n",
              "      <th>Risk_Low_Calcium_Intake</th>\n",
              "      <th>Risk_Vitamin_D_Insufficiency</th>\n",
              "      <th>Risk_Poor_Health_Frailty</th>\n",
              "      <th>Risk_Excessive_Thinness</th>\n",
              "      <th>Risk_Hysterectomy_Oophorectomy</th>\n",
              "      <th>Risk_Estrogen_Deficiency</th>\n",
              "      <th>Risk_Immobilization</th>\n",
              "      <th>Risk_Recurring_Falls</th>\n",
              "      <th>Count_Of_Risks</th>\n",
              "    </tr>\n",
              "  </thead>\n",
              "  <tbody>\n",
              "    <tr>\n",
              "      <th>342</th>\n",
              "      <td>P343</td>\n",
              "      <td>Persistent</td>\n",
              "      <td>Female</td>\n",
              "      <td>Caucasian</td>\n",
              "      <td>Not Hispanic</td>\n",
              "      <td>South</td>\n",
              "      <td>&gt;75</td>\n",
              "      <td>ENDOCRINOLOGY</td>\n",
              "      <td>Specialist</td>\n",
              "      <td>Endo/Onc/Uro</td>\n",
              "      <td>...</td>\n",
              "      <td>Y</td>\n",
              "      <td>N</td>\n",
              "      <td>Y</td>\n",
              "      <td>Y</td>\n",
              "      <td>N</td>\n",
              "      <td>N</td>\n",
              "      <td>N</td>\n",
              "      <td>N</td>\n",
              "      <td>N</td>\n",
              "      <td>6</td>\n",
              "    </tr>\n",
              "    <tr>\n",
              "      <th>817</th>\n",
              "      <td>P818</td>\n",
              "      <td>Persistent</td>\n",
              "      <td>Female</td>\n",
              "      <td>African American</td>\n",
              "      <td>Not Hispanic</td>\n",
              "      <td>South</td>\n",
              "      <td>55-65</td>\n",
              "      <td>GENERAL PRACTITIONER</td>\n",
              "      <td>Others</td>\n",
              "      <td>OB/GYN/Others/PCP/Unknown</td>\n",
              "      <td>...</td>\n",
              "      <td>Y</td>\n",
              "      <td>N</td>\n",
              "      <td>Y</td>\n",
              "      <td>Y</td>\n",
              "      <td>N</td>\n",
              "      <td>N</td>\n",
              "      <td>N</td>\n",
              "      <td>N</td>\n",
              "      <td>N</td>\n",
              "      <td>7</td>\n",
              "    </tr>\n",
              "    <tr>\n",
              "      <th>1059</th>\n",
              "      <td>P1060</td>\n",
              "      <td>Non-Persistent</td>\n",
              "      <td>Female</td>\n",
              "      <td>Caucasian</td>\n",
              "      <td>Not Hispanic</td>\n",
              "      <td>South</td>\n",
              "      <td>65-75</td>\n",
              "      <td>GENERAL PRACTITIONER</td>\n",
              "      <td>Others</td>\n",
              "      <td>OB/GYN/Others/PCP/Unknown</td>\n",
              "      <td>...</td>\n",
              "      <td>N</td>\n",
              "      <td>N</td>\n",
              "      <td>Y</td>\n",
              "      <td>Y</td>\n",
              "      <td>Y</td>\n",
              "      <td>N</td>\n",
              "      <td>N</td>\n",
              "      <td>N</td>\n",
              "      <td>Y</td>\n",
              "      <td>7</td>\n",
              "    </tr>\n",
              "    <tr>\n",
              "      <th>2601</th>\n",
              "      <td>P2602</td>\n",
              "      <td>Non-Persistent</td>\n",
              "      <td>Female</td>\n",
              "      <td>Caucasian</td>\n",
              "      <td>Not Hispanic</td>\n",
              "      <td>West</td>\n",
              "      <td>65-75</td>\n",
              "      <td>RHEUMATOLOGY</td>\n",
              "      <td>Specialist</td>\n",
              "      <td>Rheum</td>\n",
              "      <td>...</td>\n",
              "      <td>N</td>\n",
              "      <td>N</td>\n",
              "      <td>Y</td>\n",
              "      <td>Y</td>\n",
              "      <td>Y</td>\n",
              "      <td>N</td>\n",
              "      <td>N</td>\n",
              "      <td>N</td>\n",
              "      <td>Y</td>\n",
              "      <td>6</td>\n",
              "    </tr>\n",
              "    <tr>\n",
              "      <th>2860</th>\n",
              "      <td>P2861</td>\n",
              "      <td>Non-Persistent</td>\n",
              "      <td>Male</td>\n",
              "      <td>Caucasian</td>\n",
              "      <td>Not Hispanic</td>\n",
              "      <td>Northeast</td>\n",
              "      <td>65-75</td>\n",
              "      <td>RHEUMATOLOGY</td>\n",
              "      <td>Specialist</td>\n",
              "      <td>Rheum</td>\n",
              "      <td>...</td>\n",
              "      <td>Y</td>\n",
              "      <td>N</td>\n",
              "      <td>Y</td>\n",
              "      <td>N</td>\n",
              "      <td>N</td>\n",
              "      <td>N</td>\n",
              "      <td>N</td>\n",
              "      <td>N</td>\n",
              "      <td>N</td>\n",
              "      <td>6</td>\n",
              "    </tr>\n",
              "    <tr>\n",
              "      <th>3045</th>\n",
              "      <td>P3046</td>\n",
              "      <td>Persistent</td>\n",
              "      <td>Female</td>\n",
              "      <td>Other/Unknown</td>\n",
              "      <td>Unknown</td>\n",
              "      <td>Midwest</td>\n",
              "      <td>55-65</td>\n",
              "      <td>RHEUMATOLOGY</td>\n",
              "      <td>Specialist</td>\n",
              "      <td>Rheum</td>\n",
              "      <td>...</td>\n",
              "      <td>Y</td>\n",
              "      <td>N</td>\n",
              "      <td>Y</td>\n",
              "      <td>N</td>\n",
              "      <td>N</td>\n",
              "      <td>N</td>\n",
              "      <td>N</td>\n",
              "      <td>N</td>\n",
              "      <td>N</td>\n",
              "      <td>6</td>\n",
              "    </tr>\n",
              "    <tr>\n",
              "      <th>3146</th>\n",
              "      <td>P3147</td>\n",
              "      <td>Non-Persistent</td>\n",
              "      <td>Female</td>\n",
              "      <td>Caucasian</td>\n",
              "      <td>Not Hispanic</td>\n",
              "      <td>Midwest</td>\n",
              "      <td>&lt;55</td>\n",
              "      <td>RHEUMATOLOGY</td>\n",
              "      <td>Specialist</td>\n",
              "      <td>Rheum</td>\n",
              "      <td>...</td>\n",
              "      <td>N</td>\n",
              "      <td>Y</td>\n",
              "      <td>Y</td>\n",
              "      <td>Y</td>\n",
              "      <td>N</td>\n",
              "      <td>N</td>\n",
              "      <td>N</td>\n",
              "      <td>N</td>\n",
              "      <td>N</td>\n",
              "      <td>6</td>\n",
              "    </tr>\n",
              "    <tr>\n",
              "      <th>3340</th>\n",
              "      <td>P3341</td>\n",
              "      <td>Persistent</td>\n",
              "      <td>Female</td>\n",
              "      <td>Caucasian</td>\n",
              "      <td>Not Hispanic</td>\n",
              "      <td>Northeast</td>\n",
              "      <td>&gt;75</td>\n",
              "      <td>ENDOCRINOLOGY</td>\n",
              "      <td>Specialist</td>\n",
              "      <td>Endo/Onc/Uro</td>\n",
              "      <td>...</td>\n",
              "      <td>Y</td>\n",
              "      <td>N</td>\n",
              "      <td>N</td>\n",
              "      <td>N</td>\n",
              "      <td>N</td>\n",
              "      <td>N</td>\n",
              "      <td>N</td>\n",
              "      <td>N</td>\n",
              "      <td>N</td>\n",
              "      <td>6</td>\n",
              "    </tr>\n",
              "  </tbody>\n",
              "</table>\n",
              "<p>8 rows × 69 columns</p>\n",
              "</div>"
            ],
            "text/plain": [
              "       Ptid Persistency_Flag  Gender              Race     Ethnicity  \\\n",
              "342    P343       Persistent  Female         Caucasian  Not Hispanic   \n",
              "817    P818       Persistent  Female  African American  Not Hispanic   \n",
              "1059  P1060   Non-Persistent  Female         Caucasian  Not Hispanic   \n",
              "2601  P2602   Non-Persistent  Female         Caucasian  Not Hispanic   \n",
              "2860  P2861   Non-Persistent    Male         Caucasian  Not Hispanic   \n",
              "3045  P3046       Persistent  Female     Other/Unknown       Unknown   \n",
              "3146  P3147   Non-Persistent  Female         Caucasian  Not Hispanic   \n",
              "3340  P3341       Persistent  Female         Caucasian  Not Hispanic   \n",
              "\n",
              "         Region Age_Bucket        Ntm_Speciality Ntm_Specialist_Flag  \\\n",
              "342       South        >75         ENDOCRINOLOGY          Specialist   \n",
              "817       South      55-65  GENERAL PRACTITIONER              Others   \n",
              "1059      South      65-75  GENERAL PRACTITIONER              Others   \n",
              "2601       West      65-75          RHEUMATOLOGY          Specialist   \n",
              "2860  Northeast      65-75          RHEUMATOLOGY          Specialist   \n",
              "3045    Midwest      55-65          RHEUMATOLOGY          Specialist   \n",
              "3146    Midwest        <55          RHEUMATOLOGY          Specialist   \n",
              "3340  Northeast        >75         ENDOCRINOLOGY          Specialist   \n",
              "\n",
              "          Ntm_Speciality_Bucket  ... Risk_Family_History_Of_Osteoporosis  \\\n",
              "342                Endo/Onc/Uro  ...                                   Y   \n",
              "817   OB/GYN/Others/PCP/Unknown  ...                                   Y   \n",
              "1059  OB/GYN/Others/PCP/Unknown  ...                                   N   \n",
              "2601                      Rheum  ...                                   N   \n",
              "2860                      Rheum  ...                                   Y   \n",
              "3045                      Rheum  ...                                   Y   \n",
              "3146                      Rheum  ...                                   N   \n",
              "3340               Endo/Onc/Uro  ...                                   Y   \n",
              "\n",
              "     Risk_Low_Calcium_Intake  Risk_Vitamin_D_Insufficiency  \\\n",
              "342                        N                             Y   \n",
              "817                        N                             Y   \n",
              "1059                       N                             Y   \n",
              "2601                       N                             Y   \n",
              "2860                       N                             Y   \n",
              "3045                       N                             Y   \n",
              "3146                       Y                             Y   \n",
              "3340                       N                             N   \n",
              "\n",
              "     Risk_Poor_Health_Frailty Risk_Excessive_Thinness  \\\n",
              "342                         Y                       N   \n",
              "817                         Y                       N   \n",
              "1059                        Y                       Y   \n",
              "2601                        Y                       Y   \n",
              "2860                        N                       N   \n",
              "3045                        N                       N   \n",
              "3146                        Y                       N   \n",
              "3340                        N                       N   \n",
              "\n",
              "     Risk_Hysterectomy_Oophorectomy Risk_Estrogen_Deficiency  \\\n",
              "342                               N                        N   \n",
              "817                               N                        N   \n",
              "1059                              N                        N   \n",
              "2601                              N                        N   \n",
              "2860                              N                        N   \n",
              "3045                              N                        N   \n",
              "3146                              N                        N   \n",
              "3340                              N                        N   \n",
              "\n",
              "     Risk_Immobilization Risk_Recurring_Falls Count_Of_Risks  \n",
              "342                    N                    N              6  \n",
              "817                    N                    N              7  \n",
              "1059                   N                    Y              7  \n",
              "2601                   N                    Y              6  \n",
              "2860                   N                    N              6  \n",
              "3045                   N                    N              6  \n",
              "3146                   N                    N              6  \n",
              "3340                   N                    N              6  \n",
              "\n",
              "[8 rows x 69 columns]"
            ]
          },
          "metadata": {
            "tags": []
          },
          "execution_count": 129
        }
      ]
    },
    {
      "cell_type": "code",
      "metadata": {
        "id": "c673e46b",
        "outputId": "903de414-38ad-4b53-f6e4-3728fa41fe66"
      },
      "source": [
        "df[outlier_risks].index"
      ],
      "id": "c673e46b",
      "execution_count": null,
      "outputs": [
        {
          "output_type": "execute_result",
          "data": {
            "text/plain": [
              "Int64Index([342, 817, 1059, 2601, 2860, 3045, 3146, 3340], dtype='int64')"
            ]
          },
          "metadata": {
            "tags": []
          },
          "execution_count": 130
        }
      ]
    },
    {
      "cell_type": "markdown",
      "metadata": {
        "id": "12de552a"
      },
      "source": [
        "## Conclusion: We have 8 outlier variables."
      ],
      "id": "12de552a"
    },
    {
      "cell_type": "code",
      "metadata": {
        "id": "3813e19d",
        "outputId": "72669ceb-8439-46d1-e17b-cd193e8f8d71"
      },
      "source": [
        "#solving the outliers for Count Of Risks\n",
        "df_Risks[outlier_risks]"
      ],
      "id": "3813e19d",
      "execution_count": null,
      "outputs": [
        {
          "output_type": "execute_result",
          "data": {
            "text/plain": [
              "342     6\n",
              "817     7\n",
              "1059    7\n",
              "2601    6\n",
              "2860    6\n",
              "3045    6\n",
              "3146    6\n",
              "3340    6\n",
              "Name: Count_Of_Risks, dtype: int64"
            ]
          },
          "metadata": {
            "tags": []
          },
          "execution_count": 131
        }
      ]
    },
    {
      "cell_type": "code",
      "metadata": {
        "id": "437d20b5",
        "outputId": "b4b76445-92c6-4f98-df6a-23eb11cfd556"
      },
      "source": [
        "upper_bound"
      ],
      "id": "437d20b5",
      "execution_count": null,
      "outputs": [
        {
          "output_type": "execute_result",
          "data": {
            "text/plain": [
              "5.0"
            ]
          },
          "metadata": {
            "tags": []
          },
          "execution_count": 132
        }
      ]
    },
    {
      "cell_type": "code",
      "metadata": {
        "id": "2f928c18",
        "outputId": "9704692b-1b0d-45ac-829f-d8e26c194d8f"
      },
      "source": [
        "df_Risks[outlier_risks]=upper_bound"
      ],
      "id": "2f928c18",
      "execution_count": null,
      "outputs": [
        {
          "output_type": "stream",
          "text": [
            "<ipython-input-133-16770f3f4266>:1: SettingWithCopyWarning: \n",
            "A value is trying to be set on a copy of a slice from a DataFrame\n",
            "\n",
            "See the caveats in the documentation: https://pandas.pydata.org/pandas-docs/stable/user_guide/indexing.html#returning-a-view-versus-a-copy\n",
            "  df_Risks[outlier_risks]=upper_bound\n"
          ],
          "name": "stderr"
        }
      ]
    },
    {
      "cell_type": "code",
      "metadata": {
        "id": "f96b3c62",
        "outputId": "ad082ab2-02ff-41ca-9331-2af073452b32"
      },
      "source": [
        "#checking whether we have changed successfully\n",
        "df_Risks[outlier_risks]"
      ],
      "id": "f96b3c62",
      "execution_count": null,
      "outputs": [
        {
          "output_type": "execute_result",
          "data": {
            "text/plain": [
              "342     5\n",
              "817     5\n",
              "1059    5\n",
              "2601    5\n",
              "2860    5\n",
              "3045    5\n",
              "3146    5\n",
              "3340    5\n",
              "Name: Count_Of_Risks, dtype: int64"
            ]
          },
          "metadata": {
            "tags": []
          },
          "execution_count": 134
        }
      ]
    },
    {
      "cell_type": "markdown",
      "metadata": {
        "id": "0d980f9b"
      },
      "source": [
        "## Droping Unknown Values"
      ],
      "id": "0d980f9b"
    },
    {
      "cell_type": "code",
      "metadata": {
        "id": "21bc8f8e",
        "outputId": "a985cd21-431b-4023-d70d-f60062cb1b32"
      },
      "source": [
        "df[df['Risk_Segment_During_Rx'] == 'Unknown']['Tscore_Bucket_During_Rx'].value_counts()"
      ],
      "id": "21bc8f8e",
      "execution_count": null,
      "outputs": [
        {
          "output_type": "execute_result",
          "data": {
            "text/plain": [
              "Unknown    1497\n",
              "Name: Tscore_Bucket_During_Rx, dtype: int64"
            ]
          },
          "metadata": {
            "tags": []
          },
          "execution_count": 135
        }
      ]
    },
    {
      "cell_type": "code",
      "metadata": {
        "id": "8a0c1f80",
        "outputId": "a9f42855-e0b1-4fcd-fb3c-dfc7fa07e66c"
      },
      "source": [
        "df[df['Change_T_Score'] == 'Unknown']['Tscore_Bucket_During_Rx'].value_counts()"
      ],
      "id": "8a0c1f80",
      "execution_count": null,
      "outputs": [
        {
          "output_type": "execute_result",
          "data": {
            "text/plain": [
              "Unknown    1497\n",
              "Name: Tscore_Bucket_During_Rx, dtype: int64"
            ]
          },
          "metadata": {
            "tags": []
          },
          "execution_count": 136
        }
      ]
    },
    {
      "cell_type": "code",
      "metadata": {
        "id": "b51436fb",
        "outputId": "5eded75e-c307-4133-f490-58e9146d583a"
      },
      "source": [
        "df[df['Tscore_Bucket_During_Rx'] == 'Unknown']['Change_T_Score'].value_counts()"
      ],
      "id": "b51436fb",
      "execution_count": null,
      "outputs": [
        {
          "output_type": "execute_result",
          "data": {
            "text/plain": [
              "Unknown    1497\n",
              "Name: Change_T_Score, dtype: int64"
            ]
          },
          "metadata": {
            "tags": []
          },
          "execution_count": 137
        }
      ]
    },
    {
      "cell_type": "code",
      "metadata": {
        "id": "e1758031",
        "outputId": "e30abf87-dc05-4cdf-d770-d4f3a5dbe317"
      },
      "source": [
        "df[df['Change_Risk_Segment'] == 'Unknown']['Change_T_Score'].value_counts()"
      ],
      "id": "e1758031",
      "execution_count": null,
      "outputs": [
        {
          "output_type": "execute_result",
          "data": {
            "text/plain": [
              "Unknown      1497\n",
              "No change     601\n",
              "Worsened       83\n",
              "Improved       48\n",
              "Name: Change_T_Score, dtype: int64"
            ]
          },
          "metadata": {
            "tags": []
          },
          "execution_count": 138
        }
      ]
    },
    {
      "cell_type": "code",
      "metadata": {
        "id": "030a835f"
      },
      "source": [
        "#dropping columns that contains many 'Unknown' values\n",
        "df.drop(['Risk_Segment_During_Rx','Tscore_Bucket_During_Rx','Change_T_Score','Change_Risk_Segment'], axis = 1, inplace = True)"
      ],
      "id": "030a835f",
      "execution_count": null,
      "outputs": []
    },
    {
      "cell_type": "markdown",
      "metadata": {
        "id": "0396b84b"
      },
      "source": [
        "## Exporting and Reading the Cleaned Data"
      ],
      "id": "0396b84b"
    },
    {
      "cell_type": "code",
      "metadata": {
        "id": "03d2f5cd"
      },
      "source": [
        "df.to_csv(\"Healthcare_cleaned_dataset.csv\", index = False)"
      ],
      "id": "03d2f5cd",
      "execution_count": null,
      "outputs": []
    },
    {
      "cell_type": "code",
      "metadata": {
        "id": "d9c9163c",
        "outputId": "54e67fdf-72c6-48fc-9b10-6955883b93f1"
      },
      "source": [
        "# Reading the data \n",
        "\n",
        "df0 = pd.read_csv(\"Healthcare_cleaned_dataset.csv\")\n",
        "df0.head()"
      ],
      "id": "d9c9163c",
      "execution_count": null,
      "outputs": [
        {
          "output_type": "execute_result",
          "data": {
            "text/html": [
              "<div>\n",
              "<style scoped>\n",
              "    .dataframe tbody tr th:only-of-type {\n",
              "        vertical-align: middle;\n",
              "    }\n",
              "\n",
              "    .dataframe tbody tr th {\n",
              "        vertical-align: top;\n",
              "    }\n",
              "\n",
              "    .dataframe thead th {\n",
              "        text-align: right;\n",
              "    }\n",
              "</style>\n",
              "<table border=\"1\" class=\"dataframe\">\n",
              "  <thead>\n",
              "    <tr style=\"text-align: right;\">\n",
              "      <th></th>\n",
              "      <th>Ptid</th>\n",
              "      <th>Persistency_Flag</th>\n",
              "      <th>Gender</th>\n",
              "      <th>Race</th>\n",
              "      <th>Ethnicity</th>\n",
              "      <th>Region</th>\n",
              "      <th>Age_Bucket</th>\n",
              "      <th>Ntm_Speciality</th>\n",
              "      <th>Ntm_Specialist_Flag</th>\n",
              "      <th>Ntm_Speciality_Bucket</th>\n",
              "      <th>...</th>\n",
              "      <th>Risk_Family_History_Of_Osteoporosis</th>\n",
              "      <th>Risk_Low_Calcium_Intake</th>\n",
              "      <th>Risk_Vitamin_D_Insufficiency</th>\n",
              "      <th>Risk_Poor_Health_Frailty</th>\n",
              "      <th>Risk_Excessive_Thinness</th>\n",
              "      <th>Risk_Hysterectomy_Oophorectomy</th>\n",
              "      <th>Risk_Estrogen_Deficiency</th>\n",
              "      <th>Risk_Immobilization</th>\n",
              "      <th>Risk_Recurring_Falls</th>\n",
              "      <th>Count_Of_Risks</th>\n",
              "    </tr>\n",
              "  </thead>\n",
              "  <tbody>\n",
              "    <tr>\n",
              "      <th>0</th>\n",
              "      <td>P1</td>\n",
              "      <td>Persistent</td>\n",
              "      <td>Male</td>\n",
              "      <td>Caucasian</td>\n",
              "      <td>Not Hispanic</td>\n",
              "      <td>West</td>\n",
              "      <td>&gt;75</td>\n",
              "      <td>GENERAL PRACTITIONER</td>\n",
              "      <td>Others</td>\n",
              "      <td>OB/GYN/Others/PCP/Unknown</td>\n",
              "      <td>...</td>\n",
              "      <td>N</td>\n",
              "      <td>N</td>\n",
              "      <td>N</td>\n",
              "      <td>N</td>\n",
              "      <td>N</td>\n",
              "      <td>N</td>\n",
              "      <td>N</td>\n",
              "      <td>N</td>\n",
              "      <td>N</td>\n",
              "      <td>0</td>\n",
              "    </tr>\n",
              "    <tr>\n",
              "      <th>1</th>\n",
              "      <td>P2</td>\n",
              "      <td>Non-Persistent</td>\n",
              "      <td>Male</td>\n",
              "      <td>Asian</td>\n",
              "      <td>Not Hispanic</td>\n",
              "      <td>West</td>\n",
              "      <td>55-65</td>\n",
              "      <td>GENERAL PRACTITIONER</td>\n",
              "      <td>Others</td>\n",
              "      <td>OB/GYN/Others/PCP/Unknown</td>\n",
              "      <td>...</td>\n",
              "      <td>N</td>\n",
              "      <td>N</td>\n",
              "      <td>N</td>\n",
              "      <td>N</td>\n",
              "      <td>N</td>\n",
              "      <td>N</td>\n",
              "      <td>N</td>\n",
              "      <td>N</td>\n",
              "      <td>N</td>\n",
              "      <td>0</td>\n",
              "    </tr>\n",
              "    <tr>\n",
              "      <th>2</th>\n",
              "      <td>P3</td>\n",
              "      <td>Non-Persistent</td>\n",
              "      <td>Female</td>\n",
              "      <td>Other/Unknown</td>\n",
              "      <td>Hispanic</td>\n",
              "      <td>Midwest</td>\n",
              "      <td>65-75</td>\n",
              "      <td>GENERAL PRACTITIONER</td>\n",
              "      <td>Others</td>\n",
              "      <td>OB/GYN/Others/PCP/Unknown</td>\n",
              "      <td>...</td>\n",
              "      <td>N</td>\n",
              "      <td>Y</td>\n",
              "      <td>N</td>\n",
              "      <td>N</td>\n",
              "      <td>N</td>\n",
              "      <td>N</td>\n",
              "      <td>N</td>\n",
              "      <td>N</td>\n",
              "      <td>N</td>\n",
              "      <td>2</td>\n",
              "    </tr>\n",
              "    <tr>\n",
              "      <th>3</th>\n",
              "      <td>P4</td>\n",
              "      <td>Non-Persistent</td>\n",
              "      <td>Female</td>\n",
              "      <td>Caucasian</td>\n",
              "      <td>Not Hispanic</td>\n",
              "      <td>Midwest</td>\n",
              "      <td>&gt;75</td>\n",
              "      <td>GENERAL PRACTITIONER</td>\n",
              "      <td>Others</td>\n",
              "      <td>OB/GYN/Others/PCP/Unknown</td>\n",
              "      <td>...</td>\n",
              "      <td>N</td>\n",
              "      <td>N</td>\n",
              "      <td>N</td>\n",
              "      <td>N</td>\n",
              "      <td>N</td>\n",
              "      <td>N</td>\n",
              "      <td>N</td>\n",
              "      <td>N</td>\n",
              "      <td>N</td>\n",
              "      <td>1</td>\n",
              "    </tr>\n",
              "    <tr>\n",
              "      <th>4</th>\n",
              "      <td>P5</td>\n",
              "      <td>Non-Persistent</td>\n",
              "      <td>Female</td>\n",
              "      <td>Caucasian</td>\n",
              "      <td>Not Hispanic</td>\n",
              "      <td>Midwest</td>\n",
              "      <td>&gt;75</td>\n",
              "      <td>GENERAL PRACTITIONER</td>\n",
              "      <td>Others</td>\n",
              "      <td>OB/GYN/Others/PCP/Unknown</td>\n",
              "      <td>...</td>\n",
              "      <td>N</td>\n",
              "      <td>N</td>\n",
              "      <td>N</td>\n",
              "      <td>N</td>\n",
              "      <td>N</td>\n",
              "      <td>N</td>\n",
              "      <td>N</td>\n",
              "      <td>N</td>\n",
              "      <td>N</td>\n",
              "      <td>1</td>\n",
              "    </tr>\n",
              "  </tbody>\n",
              "</table>\n",
              "<p>5 rows × 65 columns</p>\n",
              "</div>"
            ],
            "text/plain": [
              "  Ptid Persistency_Flag  Gender           Race     Ethnicity   Region  \\\n",
              "0   P1       Persistent    Male      Caucasian  Not Hispanic     West   \n",
              "1   P2   Non-Persistent    Male          Asian  Not Hispanic     West   \n",
              "2   P3   Non-Persistent  Female  Other/Unknown      Hispanic  Midwest   \n",
              "3   P4   Non-Persistent  Female      Caucasian  Not Hispanic  Midwest   \n",
              "4   P5   Non-Persistent  Female      Caucasian  Not Hispanic  Midwest   \n",
              "\n",
              "  Age_Bucket        Ntm_Speciality Ntm_Specialist_Flag  \\\n",
              "0        >75  GENERAL PRACTITIONER              Others   \n",
              "1      55-65  GENERAL PRACTITIONER              Others   \n",
              "2      65-75  GENERAL PRACTITIONER              Others   \n",
              "3        >75  GENERAL PRACTITIONER              Others   \n",
              "4        >75  GENERAL PRACTITIONER              Others   \n",
              "\n",
              "       Ntm_Speciality_Bucket  ... Risk_Family_History_Of_Osteoporosis  \\\n",
              "0  OB/GYN/Others/PCP/Unknown  ...                                   N   \n",
              "1  OB/GYN/Others/PCP/Unknown  ...                                   N   \n",
              "2  OB/GYN/Others/PCP/Unknown  ...                                   N   \n",
              "3  OB/GYN/Others/PCP/Unknown  ...                                   N   \n",
              "4  OB/GYN/Others/PCP/Unknown  ...                                   N   \n",
              "\n",
              "  Risk_Low_Calcium_Intake  Risk_Vitamin_D_Insufficiency  \\\n",
              "0                       N                             N   \n",
              "1                       N                             N   \n",
              "2                       Y                             N   \n",
              "3                       N                             N   \n",
              "4                       N                             N   \n",
              "\n",
              "  Risk_Poor_Health_Frailty Risk_Excessive_Thinness  \\\n",
              "0                        N                       N   \n",
              "1                        N                       N   \n",
              "2                        N                       N   \n",
              "3                        N                       N   \n",
              "4                        N                       N   \n",
              "\n",
              "  Risk_Hysterectomy_Oophorectomy Risk_Estrogen_Deficiency Risk_Immobilization  \\\n",
              "0                              N                        N                   N   \n",
              "1                              N                        N                   N   \n",
              "2                              N                        N                   N   \n",
              "3                              N                        N                   N   \n",
              "4                              N                        N                   N   \n",
              "\n",
              "  Risk_Recurring_Falls Count_Of_Risks  \n",
              "0                    N              0  \n",
              "1                    N              0  \n",
              "2                    N              2  \n",
              "3                    N              1  \n",
              "4                    N              1  \n",
              "\n",
              "[5 rows x 65 columns]"
            ]
          },
          "metadata": {
            "tags": []
          },
          "execution_count": 141
        }
      ]
    },
    {
      "cell_type": "markdown",
      "metadata": {
        "id": "a6f39758"
      },
      "source": [
        "# Feature Engineering\n",
        "\n",
        "## Transforming Categorical Data : \n",
        "\n",
        "In this step, we are going, first, to convert features regarding to the numbers of categories (two categories or multiple categories).Then, we are going to convert Y/N values to 1/0."
      ],
      "id": "a6f39758"
    },
    {
      "cell_type": "code",
      "metadata": {
        "id": "11811c4a"
      },
      "source": [
        "#Converting categorical variables that contains two categories using Label Encoding\n",
        "two_categ = ['Persistency_Flag','Gender','Ntm_Specialist_Flag','Risk_Segment_Prior_Ntm','Adherent_Flag', 'Tscore_Bucket_Prior_Ntm','Gluco_Record_Prior_Ntm','Gluco_Record_During_Rx','Dexa_During_Rx','Frag_Frac_During_Rx','Adherent_Flag','Idn_Indicator','Injectable_Experience_During_Rx','Frag_Frac_Prior_Ntm']\n",
        "\n",
        "labenco = LabelEncoder()\n",
        "for val in two_categ:\n",
        "    df0[val] = labenco.fit_transform(df0[val])"
      ],
      "id": "11811c4a",
      "execution_count": null,
      "outputs": []
    },
    {
      "cell_type": "code",
      "metadata": {
        "id": "94f0b0eb"
      },
      "source": [
        "#Coverting categorical variables with multiple categories using Label Encoding\n",
        "multiple_categ = ['Age_Bucket','Ntm_Speciality','Ntm_Speciality_Bucket','Race','Ethnicity','Region']\n",
        "for column in multiple_categ:\n",
        "    df0[column] = df0[column].astype('category')\n",
        "    df0[column] = labenco.fit_transform(df0[column])"
      ],
      "id": "94f0b0eb",
      "execution_count": null,
      "outputs": []
    },
    {
      "cell_type": "markdown",
      "metadata": {
        "id": "0c6e9490"
      },
      "source": [
        "Now, as seen in the table, the rest of non encoding columns categorical are Y and N values. So, we are going to replace all o them by 1 and 0 respectively, without encode each column alone."
      ],
      "id": "0c6e9490"
    },
    {
      "cell_type": "code",
      "metadata": {
        "id": "511c9f4f",
        "outputId": "e154bc82-6944-4ead-983b-a08d15155865"
      },
      "source": [
        "#Convert Y/N values to 1/0\n",
        "df0.replace(('Y', 'N'), (1,0), inplace = True)\n",
        "df0"
      ],
      "id": "511c9f4f",
      "execution_count": null,
      "outputs": [
        {
          "output_type": "execute_result",
          "data": {
            "text/html": [
              "<div>\n",
              "<style scoped>\n",
              "    .dataframe tbody tr th:only-of-type {\n",
              "        vertical-align: middle;\n",
              "    }\n",
              "\n",
              "    .dataframe tbody tr th {\n",
              "        vertical-align: top;\n",
              "    }\n",
              "\n",
              "    .dataframe thead th {\n",
              "        text-align: right;\n",
              "    }\n",
              "</style>\n",
              "<table border=\"1\" class=\"dataframe\">\n",
              "  <thead>\n",
              "    <tr style=\"text-align: right;\">\n",
              "      <th></th>\n",
              "      <th>Ptid</th>\n",
              "      <th>Persistency_Flag</th>\n",
              "      <th>Gender</th>\n",
              "      <th>Race</th>\n",
              "      <th>Ethnicity</th>\n",
              "      <th>Region</th>\n",
              "      <th>Age_Bucket</th>\n",
              "      <th>Ntm_Speciality</th>\n",
              "      <th>Ntm_Specialist_Flag</th>\n",
              "      <th>Ntm_Speciality_Bucket</th>\n",
              "      <th>...</th>\n",
              "      <th>Risk_Family_History_Of_Osteoporosis</th>\n",
              "      <th>Risk_Low_Calcium_Intake</th>\n",
              "      <th>Risk_Vitamin_D_Insufficiency</th>\n",
              "      <th>Risk_Poor_Health_Frailty</th>\n",
              "      <th>Risk_Excessive_Thinness</th>\n",
              "      <th>Risk_Hysterectomy_Oophorectomy</th>\n",
              "      <th>Risk_Estrogen_Deficiency</th>\n",
              "      <th>Risk_Immobilization</th>\n",
              "      <th>Risk_Recurring_Falls</th>\n",
              "      <th>Count_Of_Risks</th>\n",
              "    </tr>\n",
              "  </thead>\n",
              "  <tbody>\n",
              "    <tr>\n",
              "      <th>0</th>\n",
              "      <td>P1</td>\n",
              "      <td>1</td>\n",
              "      <td>1</td>\n",
              "      <td>2</td>\n",
              "      <td>1</td>\n",
              "      <td>4</td>\n",
              "      <td>3</td>\n",
              "      <td>5</td>\n",
              "      <td>0</td>\n",
              "      <td>1</td>\n",
              "      <td>...</td>\n",
              "      <td>0</td>\n",
              "      <td>0</td>\n",
              "      <td>0</td>\n",
              "      <td>0</td>\n",
              "      <td>0</td>\n",
              "      <td>0</td>\n",
              "      <td>0</td>\n",
              "      <td>0</td>\n",
              "      <td>0</td>\n",
              "      <td>0</td>\n",
              "    </tr>\n",
              "    <tr>\n",
              "      <th>1</th>\n",
              "      <td>P2</td>\n",
              "      <td>0</td>\n",
              "      <td>1</td>\n",
              "      <td>1</td>\n",
              "      <td>1</td>\n",
              "      <td>4</td>\n",
              "      <td>0</td>\n",
              "      <td>5</td>\n",
              "      <td>0</td>\n",
              "      <td>1</td>\n",
              "      <td>...</td>\n",
              "      <td>0</td>\n",
              "      <td>0</td>\n",
              "      <td>0</td>\n",
              "      <td>0</td>\n",
              "      <td>0</td>\n",
              "      <td>0</td>\n",
              "      <td>0</td>\n",
              "      <td>0</td>\n",
              "      <td>0</td>\n",
              "      <td>0</td>\n",
              "    </tr>\n",
              "    <tr>\n",
              "      <th>2</th>\n",
              "      <td>P3</td>\n",
              "      <td>0</td>\n",
              "      <td>0</td>\n",
              "      <td>3</td>\n",
              "      <td>0</td>\n",
              "      <td>0</td>\n",
              "      <td>1</td>\n",
              "      <td>5</td>\n",
              "      <td>0</td>\n",
              "      <td>1</td>\n",
              "      <td>...</td>\n",
              "      <td>0</td>\n",
              "      <td>1</td>\n",
              "      <td>0</td>\n",
              "      <td>0</td>\n",
              "      <td>0</td>\n",
              "      <td>0</td>\n",
              "      <td>0</td>\n",
              "      <td>0</td>\n",
              "      <td>0</td>\n",
              "      <td>2</td>\n",
              "    </tr>\n",
              "    <tr>\n",
              "      <th>3</th>\n",
              "      <td>P4</td>\n",
              "      <td>0</td>\n",
              "      <td>0</td>\n",
              "      <td>2</td>\n",
              "      <td>1</td>\n",
              "      <td>0</td>\n",
              "      <td>3</td>\n",
              "      <td>5</td>\n",
              "      <td>0</td>\n",
              "      <td>1</td>\n",
              "      <td>...</td>\n",
              "      <td>0</td>\n",
              "      <td>0</td>\n",
              "      <td>0</td>\n",
              "      <td>0</td>\n",
              "      <td>0</td>\n",
              "      <td>0</td>\n",
              "      <td>0</td>\n",
              "      <td>0</td>\n",
              "      <td>0</td>\n",
              "      <td>1</td>\n",
              "    </tr>\n",
              "    <tr>\n",
              "      <th>4</th>\n",
              "      <td>P5</td>\n",
              "      <td>0</td>\n",
              "      <td>0</td>\n",
              "      <td>2</td>\n",
              "      <td>1</td>\n",
              "      <td>0</td>\n",
              "      <td>3</td>\n",
              "      <td>5</td>\n",
              "      <td>0</td>\n",
              "      <td>1</td>\n",
              "      <td>...</td>\n",
              "      <td>0</td>\n",
              "      <td>0</td>\n",
              "      <td>0</td>\n",
              "      <td>0</td>\n",
              "      <td>0</td>\n",
              "      <td>0</td>\n",
              "      <td>0</td>\n",
              "      <td>0</td>\n",
              "      <td>0</td>\n",
              "      <td>1</td>\n",
              "    </tr>\n",
              "    <tr>\n",
              "      <th>...</th>\n",
              "      <td>...</td>\n",
              "      <td>...</td>\n",
              "      <td>...</td>\n",
              "      <td>...</td>\n",
              "      <td>...</td>\n",
              "      <td>...</td>\n",
              "      <td>...</td>\n",
              "      <td>...</td>\n",
              "      <td>...</td>\n",
              "      <td>...</td>\n",
              "      <td>...</td>\n",
              "      <td>...</td>\n",
              "      <td>...</td>\n",
              "      <td>...</td>\n",
              "      <td>...</td>\n",
              "      <td>...</td>\n",
              "      <td>...</td>\n",
              "      <td>...</td>\n",
              "      <td>...</td>\n",
              "      <td>...</td>\n",
              "      <td>...</td>\n",
              "    </tr>\n",
              "    <tr>\n",
              "      <th>3419</th>\n",
              "      <td>P3420</td>\n",
              "      <td>1</td>\n",
              "      <td>0</td>\n",
              "      <td>2</td>\n",
              "      <td>1</td>\n",
              "      <td>3</td>\n",
              "      <td>3</td>\n",
              "      <td>5</td>\n",
              "      <td>0</td>\n",
              "      <td>1</td>\n",
              "      <td>...</td>\n",
              "      <td>0</td>\n",
              "      <td>0</td>\n",
              "      <td>1</td>\n",
              "      <td>0</td>\n",
              "      <td>0</td>\n",
              "      <td>0</td>\n",
              "      <td>0</td>\n",
              "      <td>0</td>\n",
              "      <td>0</td>\n",
              "      <td>1</td>\n",
              "    </tr>\n",
              "    <tr>\n",
              "      <th>3420</th>\n",
              "      <td>P3421</td>\n",
              "      <td>1</td>\n",
              "      <td>0</td>\n",
              "      <td>2</td>\n",
              "      <td>1</td>\n",
              "      <td>3</td>\n",
              "      <td>3</td>\n",
              "      <td>34</td>\n",
              "      <td>0</td>\n",
              "      <td>1</td>\n",
              "      <td>...</td>\n",
              "      <td>0</td>\n",
              "      <td>0</td>\n",
              "      <td>0</td>\n",
              "      <td>0</td>\n",
              "      <td>0</td>\n",
              "      <td>0</td>\n",
              "      <td>0</td>\n",
              "      <td>0</td>\n",
              "      <td>0</td>\n",
              "      <td>0</td>\n",
              "    </tr>\n",
              "    <tr>\n",
              "      <th>3421</th>\n",
              "      <td>P3422</td>\n",
              "      <td>1</td>\n",
              "      <td>0</td>\n",
              "      <td>2</td>\n",
              "      <td>1</td>\n",
              "      <td>3</td>\n",
              "      <td>3</td>\n",
              "      <td>3</td>\n",
              "      <td>1</td>\n",
              "      <td>0</td>\n",
              "      <td>...</td>\n",
              "      <td>0</td>\n",
              "      <td>0</td>\n",
              "      <td>1</td>\n",
              "      <td>0</td>\n",
              "      <td>0</td>\n",
              "      <td>0</td>\n",
              "      <td>0</td>\n",
              "      <td>0</td>\n",
              "      <td>0</td>\n",
              "      <td>1</td>\n",
              "    </tr>\n",
              "    <tr>\n",
              "      <th>3422</th>\n",
              "      <td>P3423</td>\n",
              "      <td>0</td>\n",
              "      <td>0</td>\n",
              "      <td>2</td>\n",
              "      <td>1</td>\n",
              "      <td>3</td>\n",
              "      <td>0</td>\n",
              "      <td>34</td>\n",
              "      <td>0</td>\n",
              "      <td>1</td>\n",
              "      <td>...</td>\n",
              "      <td>0</td>\n",
              "      <td>0</td>\n",
              "      <td>0</td>\n",
              "      <td>0</td>\n",
              "      <td>0</td>\n",
              "      <td>0</td>\n",
              "      <td>0</td>\n",
              "      <td>0</td>\n",
              "      <td>0</td>\n",
              "      <td>0</td>\n",
              "    </tr>\n",
              "    <tr>\n",
              "      <th>3423</th>\n",
              "      <td>P3424</td>\n",
              "      <td>0</td>\n",
              "      <td>0</td>\n",
              "      <td>2</td>\n",
              "      <td>1</td>\n",
              "      <td>3</td>\n",
              "      <td>1</td>\n",
              "      <td>34</td>\n",
              "      <td>0</td>\n",
              "      <td>1</td>\n",
              "      <td>...</td>\n",
              "      <td>0</td>\n",
              "      <td>0</td>\n",
              "      <td>1</td>\n",
              "      <td>0</td>\n",
              "      <td>0</td>\n",
              "      <td>0</td>\n",
              "      <td>0</td>\n",
              "      <td>0</td>\n",
              "      <td>0</td>\n",
              "      <td>1</td>\n",
              "    </tr>\n",
              "  </tbody>\n",
              "</table>\n",
              "<p>3424 rows × 65 columns</p>\n",
              "</div>"
            ],
            "text/plain": [
              "       Ptid  Persistency_Flag  Gender  Race  Ethnicity  Region  Age_Bucket  \\\n",
              "0        P1                 1       1     2          1       4           3   \n",
              "1        P2                 0       1     1          1       4           0   \n",
              "2        P3                 0       0     3          0       0           1   \n",
              "3        P4                 0       0     2          1       0           3   \n",
              "4        P5                 0       0     2          1       0           3   \n",
              "...     ...               ...     ...   ...        ...     ...         ...   \n",
              "3419  P3420                 1       0     2          1       3           3   \n",
              "3420  P3421                 1       0     2          1       3           3   \n",
              "3421  P3422                 1       0     2          1       3           3   \n",
              "3422  P3423                 0       0     2          1       3           0   \n",
              "3423  P3424                 0       0     2          1       3           1   \n",
              "\n",
              "      Ntm_Speciality  Ntm_Specialist_Flag  Ntm_Speciality_Bucket  ...  \\\n",
              "0                  5                    0                      1  ...   \n",
              "1                  5                    0                      1  ...   \n",
              "2                  5                    0                      1  ...   \n",
              "3                  5                    0                      1  ...   \n",
              "4                  5                    0                      1  ...   \n",
              "...              ...                  ...                    ...  ...   \n",
              "3419               5                    0                      1  ...   \n",
              "3420              34                    0                      1  ...   \n",
              "3421               3                    1                      0  ...   \n",
              "3422              34                    0                      1  ...   \n",
              "3423              34                    0                      1  ...   \n",
              "\n",
              "      Risk_Family_History_Of_Osteoporosis  Risk_Low_Calcium_Intake  \\\n",
              "0                                       0                        0   \n",
              "1                                       0                        0   \n",
              "2                                       0                        1   \n",
              "3                                       0                        0   \n",
              "4                                       0                        0   \n",
              "...                                   ...                      ...   \n",
              "3419                                    0                        0   \n",
              "3420                                    0                        0   \n",
              "3421                                    0                        0   \n",
              "3422                                    0                        0   \n",
              "3423                                    0                        0   \n",
              "\n",
              "      Risk_Vitamin_D_Insufficiency  Risk_Poor_Health_Frailty  \\\n",
              "0                                0                         0   \n",
              "1                                0                         0   \n",
              "2                                0                         0   \n",
              "3                                0                         0   \n",
              "4                                0                         0   \n",
              "...                            ...                       ...   \n",
              "3419                             1                         0   \n",
              "3420                             0                         0   \n",
              "3421                             1                         0   \n",
              "3422                             0                         0   \n",
              "3423                             1                         0   \n",
              "\n",
              "      Risk_Excessive_Thinness  Risk_Hysterectomy_Oophorectomy  \\\n",
              "0                           0                               0   \n",
              "1                           0                               0   \n",
              "2                           0                               0   \n",
              "3                           0                               0   \n",
              "4                           0                               0   \n",
              "...                       ...                             ...   \n",
              "3419                        0                               0   \n",
              "3420                        0                               0   \n",
              "3421                        0                               0   \n",
              "3422                        0                               0   \n",
              "3423                        0                               0   \n",
              "\n",
              "      Risk_Estrogen_Deficiency  Risk_Immobilization  Risk_Recurring_Falls  \\\n",
              "0                            0                    0                     0   \n",
              "1                            0                    0                     0   \n",
              "2                            0                    0                     0   \n",
              "3                            0                    0                     0   \n",
              "4                            0                    0                     0   \n",
              "...                        ...                  ...                   ...   \n",
              "3419                         0                    0                     0   \n",
              "3420                         0                    0                     0   \n",
              "3421                         0                    0                     0   \n",
              "3422                         0                    0                     0   \n",
              "3423                         0                    0                     0   \n",
              "\n",
              "      Count_Of_Risks  \n",
              "0                  0  \n",
              "1                  0  \n",
              "2                  2  \n",
              "3                  1  \n",
              "4                  1  \n",
              "...              ...  \n",
              "3419               1  \n",
              "3420               0  \n",
              "3421               1  \n",
              "3422               0  \n",
              "3423               1  \n",
              "\n",
              "[3424 rows x 65 columns]"
            ]
          },
          "metadata": {
            "tags": []
          },
          "execution_count": 144
        }
      ]
    },
    {
      "cell_type": "markdown",
      "metadata": {
        "id": "77c59b1a"
      },
      "source": [
        "Now, let's check for data types after data tranformation step."
      ],
      "id": "77c59b1a"
    },
    {
      "cell_type": "code",
      "metadata": {
        "id": "6d431b4e",
        "outputId": "0c9394b9-9fe1-41fa-9270-c3169bfd5680"
      },
      "source": [
        "df0.dtypes"
      ],
      "id": "6d431b4e",
      "execution_count": null,
      "outputs": [
        {
          "output_type": "execute_result",
          "data": {
            "text/plain": [
              "Ptid                              object\n",
              "Persistency_Flag                   int32\n",
              "Gender                             int32\n",
              "Race                               int32\n",
              "Ethnicity                          int32\n",
              "                                   ...  \n",
              "Risk_Hysterectomy_Oophorectomy     int64\n",
              "Risk_Estrogen_Deficiency           int64\n",
              "Risk_Immobilization                int64\n",
              "Risk_Recurring_Falls               int64\n",
              "Count_Of_Risks                     int64\n",
              "Length: 65, dtype: object"
            ]
          },
          "metadata": {
            "tags": []
          },
          "execution_count": 145
        }
      ]
    },
    {
      "cell_type": "code",
      "metadata": {
        "id": "13ead4de"
      },
      "source": [
        "df.to_csv(\"Healthcare_cleaned_and tranformed_dataset.csv\", index = False)"
      ],
      "id": "13ead4de",
      "execution_count": null,
      "outputs": []
    }
  ]
}